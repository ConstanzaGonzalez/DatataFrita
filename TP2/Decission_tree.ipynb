{
 "cells": [
  {
   "cell_type": "code",
   "execution_count": 1,
   "metadata": {
    "collapsed": true
   },
   "outputs": [],
   "source": [
    "from random import randint\n",
    "from sklearn import tree\n",
    "from sklearn.model_selection import cross_val_score\n",
    "from sklearn.model_selection import train_test_split\n",
    "from sklearn.metrics import classification_report, confusion_matrix, roc_auc_score\n",
    "import pandas as pd\n",
    "import numpy as np"
   ]
  },
  {
   "cell_type": "code",
   "execution_count": 2,
   "metadata": {},
   "outputs": [
    {
     "name": "stdout",
     "output_type": "stream",
     "text": [
      "<class 'pandas.core.frame.DataFrame'>\n",
      "Index: 38829 entries, 4886f805 to 80aea0a0\n",
      "Data columns (total 14 columns):\n",
      "cant_conversions               38829 non-null float64\n",
      "cant_checkouts                 38829 non-null float64\n",
      "cant_viewed_product            38829 non-null float64\n",
      "cant_searched_product          38829 non-null float64\n",
      "cant_ad_campaign_hit           38829 non-null float64\n",
      "ad_campaign_hit                38829 non-null bool\n",
      "cant_lead                      38829 non-null float64\n",
      "lead                           38829 non-null bool\n",
      "cant_brand_listing             38829 non-null float64\n",
      "cant_visited_site              38829 non-null float64\n",
      "cant_generic_listing           38829 non-null float64\n",
      "total_sesiones                 38829 non-null int64\n",
      "promedio_eventos_por_sesion    38829 non-null float64\n",
      "proprosion                     38829 non-null float64\n",
      "dtypes: bool(2), float64(11), int64(1)\n",
      "memory usage: 3.9+ MB\n"
     ]
    }
   ],
   "source": [
    "df1 = pd.read_csv('data/features_basicas.csv', low_memory=False, index_col='person')\n",
    "df1[\"proprosion\"] = np.where(df1[\"cant_viewed_product\"]>0, (df1[\"cant_checkouts\"]/df1[\"cant_viewed_product\"]),0)\n",
    "df1.info()"
   ]
  },
  {
   "cell_type": "code",
   "execution_count": 3,
   "metadata": {},
   "outputs": [
    {
     "name": "stdout",
     "output_type": "stream",
     "text": [
      "<class 'pandas.core.frame.DataFrame'>\n",
      "Index: 38829 entries, 4886f805 to 80aea0a0\n",
      "Data columns (total 22 columns):\n",
      "cant_conversions               38829 non-null float64\n",
      "cant_checkouts                 38829 non-null float64\n",
      "cant_viewed_product            38829 non-null float64\n",
      "cant_searched_product          38829 non-null float64\n",
      "cant_ad_campaign_hit           38829 non-null float64\n",
      "ad_campaign_hit                38829 non-null bool\n",
      "cant_lead                      38829 non-null float64\n",
      "lead                           38829 non-null bool\n",
      "cant_brand_listing             38829 non-null float64\n",
      "cant_visited_site              38829 non-null float64\n",
      "cant_generic_listing           38829 non-null float64\n",
      "total_sesiones                 38829 non-null int64\n",
      "promedio_eventos_por_sesion    38829 non-null float64\n",
      "proprosion                     38829 non-null float64\n",
      "timestamp                      38829 non-null int64\n",
      "min_timestamp                  38829 non-null int64\n",
      "sum_timestamp                  38829 non-null float64\n",
      "prom_timestamp                 38829 non-null int64\n",
      "ult_view                       38829 non-null float64\n",
      "ult_check                      38829 non-null float64\n",
      "ult_search                     38829 non-null float64\n",
      "ult_conv                       38829 non-null float64\n",
      "dtypes: bool(2), float64(16), int64(4)\n",
      "memory usage: 7.5+ MB\n"
     ]
    }
   ],
   "source": [
    "df2 = pd.read_csv('data/features_time.csv', low_memory=False, index_col='person')\n",
    "df3 = pd.read_csv('data/sku.csv', low_memory=False, index_col='person')\n",
    "df4 = pd.read_csv('data/features_compras.csv', low_memory=False, index_col='person')\n",
    "\n",
    "\n",
    "######################################################################################\n",
    "\n",
    "\n",
    "df5 = pd.read_csv('data/vistas_promedio.csv', low_memory=False, index_col='person')\n",
    "df7 = pd.read_csv('data/features_mas_vistos.csv', low_memory=False, index_col='person')\n",
    "\n",
    "df8 = pd.read_csv('data/features_checkout.csv', low_memory=False, index_col='person')\n",
    "df9 = pd.read_csv('data/paises_features.csv', low_memory=False, index_col='person')\n",
    "df10 = pd.read_csv('data/city_features.csv', low_memory=False, index_col='person')\n",
    "df11 = pd.read_csv('data/static.csv', low_memory=False, index_col='person')\n",
    "df12 = pd.read_csv('data/events_fe.csv', low_memory=False, index_col='person')\n",
    "df13 = pd.read_csv('data/channel_device.csv', low_memory=False, index_col='person')\n",
    "df14 = pd.read_csv('data/check.csv', low_memory=False, index_col='person')\n",
    "df15 = pd.read_csv('data/view_sku.csv', low_memory=False, index_col='person')\n",
    "df16 = pd.read_csv('data/event_por_hora.csv', low_memory=False, index_col='person')\n",
    "\n",
    "\n",
    "df_unidos = df1.join(df2).fillna(0)\n",
    "\"\"\"df_unidos = df_unidos.join(df3).fillna(0)\n",
    "df_unidos = df_unidos.join(df4).fillna(0)\n",
    "#df_unidos = df_unidos.join(df5).fillna(0)\n",
    "df_unidos = df_unidos.join(df6).fillna(0)\n",
    "df_unidos = df_unidos.join(df7).fillna(0)\n",
    "df_unidos = df_unidos.join(df8).fillna(0)\n",
    "#df_unidos = df_unidos.join(df9).fillna(0)\n",
    "df_unidos = df_unidos.join(df10).fillna(0)\n",
    "df_unidos = df_unidos.join(df11).fillna(0)\n",
    "df_unidos = df_unidos.join(df12).fillna(0)\n",
    "df_unidos = df_unidos.join(df13).fillna(0)\n",
    "df_unidos = df_unidos.join(df14).fillna(0)\n",
    "df_unidos = df_unidos.join(df15).fillna(0)\n",
    "df_unidos = df_unidos.join(df16).fillna(0)\"\"\"\n",
    "\n",
    "df_unidos.info()"
   ]
  },
  {
   "cell_type": "code",
   "execution_count": null,
   "metadata": {
    "collapsed": true
   },
   "outputs": [],
   "source": []
  },
  {
   "cell_type": "code",
   "execution_count": 4,
   "metadata": {},
   "outputs": [
    {
     "name": "stdout",
     "output_type": "stream",
     "text": [
      "<class 'pandas.core.frame.DataFrame'>\n",
      "Index: 19414 entries, ad93850f to d8d6b0da\n",
      "Data columns (total 23 columns):\n",
      "cant_conversions               19414 non-null float64\n",
      "cant_checkouts                 19414 non-null float64\n",
      "cant_viewed_product            19414 non-null float64\n",
      "cant_searched_product          19414 non-null float64\n",
      "cant_ad_campaign_hit           19414 non-null float64\n",
      "ad_campaign_hit                19414 non-null bool\n",
      "cant_lead                      19414 non-null float64\n",
      "lead                           19414 non-null bool\n",
      "cant_brand_listing             19414 non-null float64\n",
      "cant_visited_site              19414 non-null float64\n",
      "cant_generic_listing           19414 non-null float64\n",
      "total_sesiones                 19414 non-null int64\n",
      "promedio_eventos_por_sesion    19414 non-null float64\n",
      "proprosion                     19414 non-null float64\n",
      "timestamp                      19414 non-null int64\n",
      "min_timestamp                  19414 non-null int64\n",
      "sum_timestamp                  19414 non-null float64\n",
      "prom_timestamp                 19414 non-null int64\n",
      "ult_view                       19414 non-null float64\n",
      "ult_check                      19414 non-null float64\n",
      "ult_search                     19414 non-null float64\n",
      "ult_conv                       19414 non-null float64\n",
      "label                          19414 non-null int64\n",
      "dtypes: bool(2), float64(16), int64(5)\n",
      "memory usage: 3.3+ MB\n"
     ]
    }
   ],
   "source": [
    "labels = pd.read_csv('data/labels_training_set.csv', low_memory=False, index_col='person')\n",
    "\n",
    "df_test = df_unidos.join(labels, how= \"inner\")\n",
    "df_test.info()"
   ]
  },
  {
   "cell_type": "code",
   "execution_count": 5,
   "metadata": {},
   "outputs": [
    {
     "name": "stdout",
     "output_type": "stream",
     "text": [
      "['cant_conversions', 'cant_checkouts', 'cant_viewed_product', 'cant_searched_product', 'cant_ad_campaign_hit', 'ad_campaign_hit', 'cant_lead', 'lead', 'cant_brand_listing', 'cant_visited_site', 'cant_generic_listing', 'total_sesiones', 'promedio_eventos_por_sesion', 'proprosion', 'timestamp', 'min_timestamp', 'sum_timestamp', 'prom_timestamp', 'ult_view', 'ult_check', 'ult_search', 'ult_conv']\n"
     ]
    }
   ],
   "source": [
    "features = df_test.columns.tolist()\n",
    "features.remove('label')\n",
    "print(features)"
   ]
  },
  {
   "cell_type": "code",
   "execution_count": 6,
   "metadata": {
    "collapsed": true
   },
   "outputs": [],
   "source": [
    "X_train, X_test, Y_train, Y_test = train_test_split(df_test[features],\\\n",
    "                                                    df_test['label'], test_size=0.20)"
   ]
  },
  {
   "cell_type": "code",
   "execution_count": 7,
   "metadata": {
    "collapsed": true
   },
   "outputs": [],
   "source": [
    "param_grid = { \n",
    "    'max_depth' : [2,3,4,5,6,7,8,9,10],\n",
    "    \n",
    "} "
   ]
  },
  {
   "cell_type": "code",
   "execution_count": 8,
   "metadata": {},
   "outputs": [
    {
     "name": "stdout",
     "output_type": "stream",
     "text": [
      "Fitting 5 folds for each of 9 candidates, totalling 45 fits\n",
      "[CV] max_depth=2 .....................................................\n",
      "[CV] max_depth=2 .....................................................\n",
      "[CV] ................ max_depth=2, score=0.833754746327, total=   0.1s\n",
      "[CV] max_depth=2 .....................................................\n",
      "[CV] ................ max_depth=2, score=0.833069407154, total=   0.1s\n",
      "[CV] max_depth=2 .....................................................\n",
      "[CV] ................ max_depth=2, score=0.826460391523, total=   0.1s\n",
      "[CV] max_depth=2 .....................................................\n",
      "[CV] ................ max_depth=2, score=0.833230180426, total=   0.1s\n",
      "[CV] ................ max_depth=2, score=0.820062329142, total=   0.1s\n",
      "[CV] max_depth=3 .....................................................\n",
      "[CV] max_depth=3 .....................................................\n",
      "[CV] ................ max_depth=3, score=0.856201504922, total=   0.1s\n",
      "[CV] max_depth=3 .....................................................\n",
      "[CV] ................ max_depth=3, score=0.845886661627, total=   0.1s\n",
      "[CV] max_depth=3 .....................................................\n"
     ]
    },
    {
     "name": "stderr",
     "output_type": "stream",
     "text": [
      "[Parallel(n_jobs=-1)]: Done   5 tasks      | elapsed:    0.5s\n"
     ]
    },
    {
     "name": "stdout",
     "output_type": "stream",
     "text": [
      "[CV] ................ max_depth=3, score=0.834945129422, total=   0.1s\n",
      "[CV] max_depth=3 .....................................................\n",
      "[CV] ................. max_depth=3, score=0.84762602515, total=   0.1s\n",
      "[CV] max_depth=4 .....................................................\n",
      "[CV] ................ max_depth=3, score=0.837951886277, total=   0.1s\n",
      "[CV] max_depth=4 .....................................................\n",
      "[CV] ................. max_depth=4, score=0.85921221837, total=   0.1s\n",
      "[CV] max_depth=4 .....................................................\n",
      "[CV] ................ max_depth=4, score=0.843264777694, total=   0.1s\n",
      "[CV] max_depth=4 .....................................................\n"
     ]
    },
    {
     "name": "stderr",
     "output_type": "stream",
     "text": [
      "[Parallel(n_jobs=-1)]: Done  10 tasks      | elapsed:    1.0s\n"
     ]
    },
    {
     "name": "stdout",
     "output_type": "stream",
     "text": [
      "[CV] ................ max_depth=4, score=0.849897687876, total=   0.1s\n",
      "[CV] max_depth=4 .....................................................\n",
      "[CV] ................ max_depth=4, score=0.837277200656, total=   0.1s\n",
      "[CV] max_depth=5 .....................................................\n",
      "[CV] ................ max_depth=4, score=0.838544559869, total=   0.1s\n",
      "[CV] max_depth=5 .....................................................\n",
      "[CV] ................ max_depth=5, score=0.856784749194, total=   0.1s\n",
      "[CV] max_depth=5 .....................................................\n",
      "[CV] ................ max_depth=5, score=0.844232507016, total=   0.1s\n",
      "[CV] max_depth=5 .....................................................\n",
      "[CV] ................ max_depth=5, score=0.841465083544, total=   0.1s\n",
      "[CV] max_depth=5 .....................................................\n",
      "[CV] ................ max_depth=5, score=0.837554948059, total=   0.1s\n",
      "[CV] max_depth=6 .....................................................\n",
      "[CV] ................ max_depth=5, score=0.852945872061, total=   0.1s\n",
      "[CV] max_depth=6 .....................................................\n"
     ]
    },
    {
     "name": "stderr",
     "output_type": "stream",
     "text": [
      "[Parallel(n_jobs=-1)]: Done  17 tasks      | elapsed:    1.6s\n"
     ]
    },
    {
     "name": "stdout",
     "output_type": "stream",
     "text": [
      "[CV] max_depth=6 .....................................................\n",
      "[CV] ................ max_depth=6, score=0.849470844303, total=   0.1s\n",
      "[CV] max_depth=6 .....................................................\n",
      "[CV] ................ max_depth=6, score=0.826416946885, total=   0.1s\n",
      "[CV] max_depth=6 .....................................................\n",
      "[CV] ................ max_depth=6, score=0.845405512256, total=   0.1s\n",
      "[CV] max_depth=7 .....................................................\n",
      "[CV] ................ max_depth=6, score=0.824431930016, total=   0.2s\n",
      "[CV] max_depth=7 .....................................................\n",
      "[CV] ................. max_depth=6, score=0.84958775287, total=   0.1s\n",
      "[CV] ................ max_depth=7, score=0.830149927447, total=   0.1s\n",
      "[CV] max_depth=7 .....................................................\n"
     ]
    },
    {
     "name": "stderr",
     "output_type": "stream",
     "text": [
      "[Parallel(n_jobs=-1)]: Done  24 tasks      | elapsed:    2.2s\n"
     ]
    },
    {
     "name": "stdout",
     "output_type": "stream",
     "text": [
      "[CV] max_depth=7 .....................................................\n",
      "[CV] ................ max_depth=7, score=0.804915109176, total=   0.1s\n",
      "[CV] max_depth=7 .....................................................\n",
      "[CV] ................ max_depth=7, score=0.823334549783, total=   0.2s\n",
      "[CV] ................ max_depth=7, score=0.797496992892, total=   0.1s\n",
      "[CV] max_depth=8 .....................................................\n",
      "[CV] ................ max_depth=7, score=0.849897211591, total=   0.1s\n",
      "[CV] max_depth=8 .....................................................\n",
      "[CV] max_depth=8 .....................................................\n",
      "[CV] ................ max_depth=8, score=0.812602637958, total=   0.2s\n",
      "[CV] max_depth=8 .....................................................\n",
      "[CV] ................ max_depth=8, score=0.801181042498, total=   0.2s\n",
      "[CV] max_depth=8 .....................................................\n",
      "[CV] ................. max_depth=8, score=0.80123426218, total=   0.2s\n",
      "[CV] max_depth=9 .....................................................\n",
      "[CV] ................ max_depth=8, score=0.772847457627, total=   0.2s\n",
      "[CV] max_depth=9 .....................................................\n",
      "[CV] ................ max_depth=8, score=0.821992345544, total=   0.2s\n",
      "[CV] max_depth=9 .....................................................\n"
     ]
    },
    {
     "name": "stderr",
     "output_type": "stream",
     "text": [
      "[Parallel(n_jobs=-1)]: Done  33 tasks      | elapsed:    3.0s\n"
     ]
    },
    {
     "name": "stdout",
     "output_type": "stream",
     "text": [
      "[CV] ................ max_depth=9, score=0.792716940802, total=   0.2s\n",
      "[CV] max_depth=9 .....................................................\n",
      "[CV] ................. max_depth=9, score=0.80452953801, total=   0.2s\n",
      "[CV] max_depth=9 .....................................................\n",
      "[CV] ................ max_depth=9, score=0.764381261459, total=   0.2s\n",
      "[CV] max_depth=10 ....................................................\n",
      "[CV] ................ max_depth=9, score=0.754137780208, total=   0.2s\n",
      "[CV] max_depth=10 ....................................................\n",
      "[CV] ................ max_depth=9, score=0.757959540733, total=   0.2s\n",
      "[CV] max_depth=10 ....................................................\n",
      "[CV] ............... max_depth=10, score=0.763498249181, total=   0.2s\n",
      "[CV] max_depth=10 ....................................................\n",
      "[CV] ............... max_depth=10, score=0.781350737256, total=   0.2s\n",
      "[CV] max_depth=10 ....................................................\n",
      "[CV] ............... max_depth=10, score=0.696726012043, total=   0.2s\n",
      "[CV] ................. max_depth=10, score=0.7287304538, total=   0.2s\n",
      "[CV] ............... max_depth=10, score=0.722863860033, total=   0.1s\n"
     ]
    },
    {
     "name": "stderr",
     "output_type": "stream",
     "text": [
      "[Parallel(n_jobs=-1)]: Done  43 out of  45 | elapsed:    3.9s remaining:    0.2s\n",
      "[Parallel(n_jobs=-1)]: Done  45 out of  45 | elapsed:    4.1s finished\n"
     ]
    },
    {
     "data": {
      "text/plain": [
       "GridSearchCV(cv=5, error_score='raise',\n",
       "       estimator=DecisionTreeClassifier(class_weight=None, criterion='gini', max_depth=None,\n",
       "            max_features=None, max_leaf_nodes=None,\n",
       "            min_impurity_decrease=0.0, min_impurity_split=None,\n",
       "            min_samples_leaf=1, min_samples_split=2,\n",
       "            min_weight_fraction_leaf=0.0, presort=False, random_state=None,\n",
       "            splitter='best'),\n",
       "       fit_params=None, iid=True, n_jobs=-1,\n",
       "       param_grid={'max_depth': [2, 3, 4, 5, 6, 7, 8, 9, 10]},\n",
       "       pre_dispatch='2*n_jobs', refit=True, return_train_score='warn',\n",
       "       scoring='roc_auc', verbose=10)"
      ]
     },
     "execution_count": 8,
     "metadata": {},
     "output_type": "execute_result"
    }
   ],
   "source": [
    "from sklearn.model_selection import GridSearchCV \n",
    "clf = tree.DecisionTreeClassifier()\n",
    "CV_clf = GridSearchCV(estimator=clf, param_grid=param_grid, cv= 5, scoring='roc_auc', n_jobs=-1, verbose=10) \n",
    "CV_clf.fit(X_train, Y_train)"
   ]
  },
  {
   "cell_type": "code",
   "execution_count": 9,
   "metadata": {},
   "outputs": [
    {
     "data": {
      "text/plain": [
       "{'max_depth': 5}"
      ]
     },
     "execution_count": 9,
     "metadata": {},
     "output_type": "execute_result"
    }
   ],
   "source": [
    "CV_clf.best_params_ #aca te dice el mejor hiperparametro"
   ]
  },
  {
   "cell_type": "code",
   "execution_count": 10,
   "metadata": {},
   "outputs": [
    {
     "data": {
      "text/plain": [
       "DecisionTreeClassifier(class_weight=None, criterion='gini', max_depth=5,\n",
       "            max_features=None, max_leaf_nodes=None,\n",
       "            min_impurity_decrease=0.0, min_impurity_split=None,\n",
       "            min_samples_leaf=1, min_samples_split=2,\n",
       "            min_weight_fraction_leaf=0.0, presort=False, random_state=None,\n",
       "            splitter='best')"
      ]
     },
     "execution_count": 10,
     "metadata": {},
     "output_type": "execute_result"
    }
   ],
   "source": [
    "clf = tree.DecisionTreeClassifier(max_depth= 5)\n",
    "clf.fit(X_train,Y_train)"
   ]
  },
  {
   "cell_type": "code",
   "execution_count": 11,
   "metadata": {},
   "outputs": [
    {
     "data": {
      "text/plain": [
       "0.94540303888745814"
      ]
     },
     "execution_count": 11,
     "metadata": {},
     "output_type": "execute_result"
    }
   ],
   "source": [
    "clf.score(X_test,Y_test)"
   ]
  },
  {
   "cell_type": "code",
   "execution_count": 12,
   "metadata": {},
   "outputs": [
    {
     "name": "stdout",
     "output_type": "stream",
     "text": [
      "0.519696407294\n"
     ]
    }
   ],
   "source": [
    "Y_pred = clf.predict(X_test)\n",
    "print(roc_auc_score(Y_test, Y_pred))"
   ]
  },
  {
   "cell_type": "code",
   "execution_count": 13,
   "metadata": {},
   "outputs": [
    {
     "name": "stdout",
     "output_type": "stream",
     "text": [
      "             precision    recall  f1-score   support\n",
      "\n",
      "          0       0.95      0.99      0.97      3681\n",
      "          1       0.32      0.04      0.08       202\n",
      "\n",
      "avg / total       0.92      0.95      0.93      3883\n",
      "\n"
     ]
    }
   ],
   "source": [
    "Y_truths = Y_test\n",
    "print(classification_report(Y_truths, Y_pred))"
   ]
  },
  {
   "cell_type": "code",
   "execution_count": 14,
   "metadata": {},
   "outputs": [
    {
     "name": "stdout",
     "output_type": "stream",
     "text": [
      "[[3662   19]\n",
      " [ 193    9]]\n"
     ]
    }
   ],
   "source": [
    "print(confusion_matrix(Y_truths, Y_pred))"
   ]
  },
  {
   "cell_type": "code",
   "execution_count": 15,
   "metadata": {
    "collapsed": true
   },
   "outputs": [],
   "source": [
    "feature_importances = pd.DataFrame(clf.feature_importances_,\\\n",
    "                                   index = X_train.columns,\\\n",
    "                                    columns=['importance']).sort_values('importance',ascending=False)"
   ]
  },
  {
   "cell_type": "code",
   "execution_count": 16,
   "metadata": {},
   "outputs": [
    {
     "data": {
      "text/html": [
       "<div>\n",
       "<style>\n",
       "    .dataframe thead tr:only-child th {\n",
       "        text-align: right;\n",
       "    }\n",
       "\n",
       "    .dataframe thead th {\n",
       "        text-align: left;\n",
       "    }\n",
       "\n",
       "    .dataframe tbody tr th {\n",
       "        vertical-align: top;\n",
       "    }\n",
       "</style>\n",
       "<table border=\"1\" class=\"dataframe\">\n",
       "  <thead>\n",
       "    <tr style=\"text-align: right;\">\n",
       "      <th></th>\n",
       "      <th>importance</th>\n",
       "    </tr>\n",
       "  </thead>\n",
       "  <tbody>\n",
       "    <tr>\n",
       "      <th>ult_check</th>\n",
       "      <td>0.589330</td>\n",
       "    </tr>\n",
       "    <tr>\n",
       "      <th>ult_conv</th>\n",
       "      <td>0.122028</td>\n",
       "    </tr>\n",
       "    <tr>\n",
       "      <th>sum_timestamp</th>\n",
       "      <td>0.073485</td>\n",
       "    </tr>\n",
       "    <tr>\n",
       "      <th>cant_viewed_product</th>\n",
       "      <td>0.057967</td>\n",
       "    </tr>\n",
       "    <tr>\n",
       "      <th>promedio_eventos_por_sesion</th>\n",
       "      <td>0.039189</td>\n",
       "    </tr>\n",
       "    <tr>\n",
       "      <th>cant_generic_listing</th>\n",
       "      <td>0.019117</td>\n",
       "    </tr>\n",
       "    <tr>\n",
       "      <th>cant_conversions</th>\n",
       "      <td>0.015760</td>\n",
       "    </tr>\n",
       "    <tr>\n",
       "      <th>cant_brand_listing</th>\n",
       "      <td>0.015181</td>\n",
       "    </tr>\n",
       "    <tr>\n",
       "      <th>ult_search</th>\n",
       "      <td>0.013677</td>\n",
       "    </tr>\n",
       "    <tr>\n",
       "      <th>cant_checkouts</th>\n",
       "      <td>0.013083</td>\n",
       "    </tr>\n",
       "    <tr>\n",
       "      <th>timestamp</th>\n",
       "      <td>0.012262</td>\n",
       "    </tr>\n",
       "    <tr>\n",
       "      <th>total_sesiones</th>\n",
       "      <td>0.010003</td>\n",
       "    </tr>\n",
       "    <tr>\n",
       "      <th>ult_view</th>\n",
       "      <td>0.007961</td>\n",
       "    </tr>\n",
       "    <tr>\n",
       "      <th>min_timestamp</th>\n",
       "      <td>0.007391</td>\n",
       "    </tr>\n",
       "    <tr>\n",
       "      <th>prom_timestamp</th>\n",
       "      <td>0.003566</td>\n",
       "    </tr>\n",
       "    <tr>\n",
       "      <th>lead</th>\n",
       "      <td>0.000000</td>\n",
       "    </tr>\n",
       "    <tr>\n",
       "      <th>cant_visited_site</th>\n",
       "      <td>0.000000</td>\n",
       "    </tr>\n",
       "    <tr>\n",
       "      <th>cant_lead</th>\n",
       "      <td>0.000000</td>\n",
       "    </tr>\n",
       "    <tr>\n",
       "      <th>ad_campaign_hit</th>\n",
       "      <td>0.000000</td>\n",
       "    </tr>\n",
       "    <tr>\n",
       "      <th>proprosion</th>\n",
       "      <td>0.000000</td>\n",
       "    </tr>\n",
       "    <tr>\n",
       "      <th>cant_ad_campaign_hit</th>\n",
       "      <td>0.000000</td>\n",
       "    </tr>\n",
       "    <tr>\n",
       "      <th>cant_searched_product</th>\n",
       "      <td>0.000000</td>\n",
       "    </tr>\n",
       "  </tbody>\n",
       "</table>\n",
       "</div>"
      ],
      "text/plain": [
       "                             importance\n",
       "ult_check                      0.589330\n",
       "ult_conv                       0.122028\n",
       "sum_timestamp                  0.073485\n",
       "cant_viewed_product            0.057967\n",
       "promedio_eventos_por_sesion    0.039189\n",
       "cant_generic_listing           0.019117\n",
       "cant_conversions               0.015760\n",
       "cant_brand_listing             0.015181\n",
       "ult_search                     0.013677\n",
       "cant_checkouts                 0.013083\n",
       "timestamp                      0.012262\n",
       "total_sesiones                 0.010003\n",
       "ult_view                       0.007961\n",
       "min_timestamp                  0.007391\n",
       "prom_timestamp                 0.003566\n",
       "lead                           0.000000\n",
       "cant_visited_site              0.000000\n",
       "cant_lead                      0.000000\n",
       "ad_campaign_hit                0.000000\n",
       "proprosion                     0.000000\n",
       "cant_ad_campaign_hit           0.000000\n",
       "cant_searched_product          0.000000"
      ]
     },
     "execution_count": 16,
     "metadata": {},
     "output_type": "execute_result"
    }
   ],
   "source": [
    "feature_importances.head(60)"
   ]
  },
  {
   "cell_type": "code",
   "execution_count": 17,
   "metadata": {
    "collapsed": true
   },
   "outputs": [],
   "source": [
    "df_submit = pd.read_csv('data/trocafone_kaggle_test.csv', low_memory=False, index_col='person')\n",
    "df_events = df_submit.join(df_unidos, how='inner')"
   ]
  },
  {
   "cell_type": "code",
   "execution_count": 18,
   "metadata": {
    "collapsed": true
   },
   "outputs": [],
   "source": [
    "kaggle_pred = clf.predict_proba(df_events)\n",
    "kaggle_pred\n",
    "proba_de_comprar = [x[1] for x in kaggle_pred]\n",
    "series = pd.Series(proba_de_comprar)\n",
    "df_submit['label'] = series.values"
   ]
  },
  {
   "cell_type": "code",
   "execution_count": 19,
   "metadata": {},
   "outputs": [
    {
     "data": {
      "text/plain": [
       "0.050838721787373704"
      ]
     },
     "execution_count": 19,
     "metadata": {},
     "output_type": "execute_result"
    }
   ],
   "source": [
    "df_submit.label.mean()"
   ]
  },
  {
   "cell_type": "code",
   "execution_count": 20,
   "metadata": {
    "collapsed": true
   },
   "outputs": [],
   "source": [
    "df_submit.to_csv('submit/submit_clf_clase.csv')"
   ]
  },
  {
   "cell_type": "code",
   "execution_count": 21,
   "metadata": {},
   "outputs": [
    {
     "data": {
      "text/plain": [
       "19415"
      ]
     },
     "execution_count": 21,
     "metadata": {},
     "output_type": "execute_result"
    }
   ],
   "source": [
    "len(df_submit['label'])\n"
   ]
  },
  {
   "cell_type": "code",
   "execution_count": null,
   "metadata": {
    "collapsed": true
   },
   "outputs": [],
   "source": []
  }
 ],
 "metadata": {
  "kernelspec": {
   "display_name": "Python 2",
   "language": "python",
   "name": "python2"
  },
  "language_info": {
   "codemirror_mode": {
    "name": "ipython",
    "version": 2
   },
   "file_extension": ".py",
   "mimetype": "text/x-python",
   "name": "python",
   "nbconvert_exporter": "python",
   "pygments_lexer": "ipython2",
   "version": "2.7.14"
  }
 },
 "nbformat": 4,
 "nbformat_minor": 2
}
