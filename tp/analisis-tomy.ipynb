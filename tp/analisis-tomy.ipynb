{
 "cells": [
  {
   "cell_type": "code",
   "execution_count": 27,
   "metadata": {},
   "outputs": [],
   "source": [
    "import pandas as pd\n",
    "import matplotlib as mlib\n",
    "import matplotlib.pyplot as plt\n",
    "import numpy as np\n",
    "\n",
    "mylist = []\n",
    "\n",
    "for chunk in pd.read_csv('../events.csv', low_memory=False, chunksize=20000):\n",
    "    mylist.append(chunk)\n",
    "\n",
    "df_events = pd.concat(mylist, axis= 0)\n",
    "del mylist\n",
    "\n"
   ]
  },
  {
   "cell_type": "code",
   "execution_count": 25,
   "metadata": {},
   "outputs": [
    {
     "data": {
      "text/plain": [
       "Index(['timestamp', 'event', 'person', 'url', 'sku', 'model', 'condition',\n",
       "       'storage', 'color', 'skus', 'search_term', 'staticpage',\n",
       "       'campaign_source', 'search_engine', 'channel', 'new_vs_returning',\n",
       "       'city', 'region', 'country', 'device_type', 'screen_resolution',\n",
       "       'operating_system_version', 'browser_version'],\n",
       "      dtype='object')"
      ]
     },
     "execution_count": 25,
     "metadata": {},
     "output_type": "execute_result"
    }
   ],
   "source": [
    "df_events.columns"
   ]
  },
  {
   "cell_type": "code",
   "execution_count": 28,
   "metadata": {},
   "outputs": [
    {
     "data": {
      "text/plain": [
       "viewed product       528931\n",
       "brand listing         98635\n",
       "visited site          87378\n",
       "ad campaign hit       82827\n",
       "generic listing       67534\n",
       "searched products     56073\n",
       "search engine hit     50957\n",
       "checkout              33735\n",
       "staticpage             3598\n",
       "conversion             1172\n",
       "lead                    448\n",
       "Name: event, dtype: int64"
      ]
     },
     "execution_count": 28,
     "metadata": {},
     "output_type": "execute_result"
    }
   ],
   "source": [
    "df_events['event'].value_counts()"
   ]
  },
  {
   "cell_type": "code",
   "execution_count": 73,
   "metadata": {},
   "outputs": [],
   "source": [
    "# 1) Cantidad de visitas segun pais\n",
    "\n",
    "df_1 = df_events[(df_events[\"event\"]==\"visited site\") | (df_events[\"event\"]==\"ad campaign hit\")]"
   ]
  },
  {
   "cell_type": "code",
   "execution_count": 89,
   "metadata": {},
   "outputs": [
    {
     "data": {
      "text/plain": [
       "Series([], Name: country, dtype: int64)"
      ]
     },
     "execution_count": 89,
     "metadata": {},
     "output_type": "execute_result"
    }
   ],
   "source": [
    "df_1[df_1[\"event\"]==\"ad campaign hit\"][\"country\"].value_counts()\n",
    "\n",
    "## Esto lleva a no saber en qué paises conviene poner publicidad,\n",
    "## dado que falta la información del pais para el evento \"ad campaign hit\"\n",
    "\n",
    "## Si se tuviera esa información, se podría invertir más plata en publicidades\n",
    "## para aquellos países que tienen un mayor ratio personas <-> publicidades clickeadas,\n",
    "## o también visitas al sitio <-> publicidades clickeadas"
   ]
  },
  {
   "cell_type": "code",
   "execution_count": null,
   "metadata": {},
   "outputs": [],
   "source": []
  },
  {
   "cell_type": "code",
   "execution_count": null,
   "metadata": {},
   "outputs": [],
   "source": []
  },
  {
   "cell_type": "code",
   "execution_count": null,
   "metadata": {},
   "outputs": [],
   "source": []
  },
  {
   "cell_type": "code",
   "execution_count": 96,
   "metadata": {},
   "outputs": [
    {
     "data": {
      "text/plain": [
       "/                                                   28323\n",
       "/comprar/iphone                                      4132\n",
       "/comprar/iphone/6s                                   3393\n",
       "/comprar/iphone/6                                    3228\n",
       "/comprar/samsung                                     2782\n",
       "/comprar/iphone/iphone-5s                            2689\n",
       "/comprar/samsung/galaxy-j5                           2446\n",
       "/comprar/samsung/galaxy-s7-edge                      1972\n",
       "/comprar/samsung/galaxy-s8                           1499\n",
       "/comprar/samsung/galaxy-j7                           1465\n",
       "/comprar/samsung/galaxy-s6-edge                      1415\n",
       "/comprar/motorola                                    1154\n",
       "/comprar/samsung/galaxy-s7                           1139\n",
       "/comprar/iphone/7                                    1120\n",
       "/comprar/samsung/galaxy-s6-flat                      1067\n",
       "/comprar/iphone/iphone-6s-plus                        947\n",
       "/comprar/samsung/samsung-gran-prime-duos-tv           944\n",
       "/comprar/samsung/a5                                   906\n",
       "/comprar/samsung/                                     902\n",
       "/comprar/samsung/galaxy-s8-plus                       849\n",
       "/comprar/iphone/iphone-se                             795\n",
       "/comprar/iphone/iphone-5c                             722\n",
       "/comprar/iphone/iphone-5                              716\n",
       "/comprar/samsung/galaxy-j7-prime                      697\n",
       "/comprar/iphone/7-plus                                675\n",
       "/comprar/motorola/moto-g-2a-geracao                   602\n",
       "/comprar/samsung/galaxy-s6-edge-plus                  522\n",
       "/comprar/iphone/                                      520\n",
       "/comprar/motorola/moto-x-play-4g-dual                 460\n",
       "/comprar/iphone/6-plus                                426\n",
       "                                                    ...  \n",
       "/comprar/samsung/gear-s3-frontier                       3\n",
       "/comprar/samsung/galaxy-gran-neo-plus-duos              3\n",
       "/comprar/ipad/ipad-air-wi-fi                            2\n",
       "/comprar/quantum/you                                    2\n",
       "/comprar/samsung/galaxy-tab-a-com-spen-8-wifi-4g        2\n",
       "/comprar/ipad/4-wi-fi                                   2\n",
       "/comprar/motorola/razr-d3                               2\n",
       "/vender/motorola/moto-e-2a-geracao-4g-dual              2\n",
       "/comprar/quantum/quantum-muv                            2\n",
       "/vender/motorola/moto-g5s-plus                          2\n",
       "/vender                                                 2\n",
       "/comprar/asus/zenfone-2-laser                           2\n",
       "/clube-trocafone                                        2\n",
       "/comprar/apple/iphone-6s-plus                           2\n",
       "/comprar/iphone/iphone-5/                               1\n",
       "/comprar/ipad/ipad-mini-2-wi-fi                         1\n",
       "/comprar/motorola/razr-d3/                              1\n",
       "/comprar/asus/zenfone-3-max-32gb                        1\n",
       "/comprar/lg/lg-g2-mini-d618-dual                        1\n",
       "/comprar/samsung/galaxy-tab-e-96-wifi-3g                1\n",
       "/comprar/lg/lg-g2-mini-d618                             1\n",
       "/comprar/lg/lg-g-pro-lite-dual-d685                     1\n",
       "/comprar/quantum/muv-up                                 1\n",
       "/vender/motorola                                        1\n",
       "/comprar/lg/lg-g4-stylus-hdtv-h540t                     1\n",
       "/termos-e-condicoes                                     1\n",
       "/comprar/ipad/3-wi-fi-4g                                1\n",
       "/comprar/motorola/moto-x                                1\n",
       "/comprar/samsung/gran-prime-duos                        1\n",
       "/comprar/samsung/galaxy-mega-duos                       1\n",
       "Name: url, Length: 227, dtype: int64"
      ]
     },
     "execution_count": 96,
     "metadata": {},
     "output_type": "execute_result"
    }
   ],
   "source": [
    "## 2) Publicidades más clickeadas\n",
    "\n",
    "df_events[df_events[\"event\"]==\"ad campaign hit\"][\"url\"].value_counts()"
   ]
  },
  {
   "cell_type": "code",
   "execution_count": 126,
   "metadata": {},
   "outputs": [
    {
     "data": {
      "text/html": [
       "<div>\n",
       "<style scoped>\n",
       "    .dataframe tbody tr th:only-of-type {\n",
       "        vertical-align: middle;\n",
       "    }\n",
       "\n",
       "    .dataframe tbody tr th {\n",
       "        vertical-align: top;\n",
       "    }\n",
       "\n",
       "    .dataframe thead th {\n",
       "        text-align: right;\n",
       "    }\n",
       "</style>\n",
       "<table border=\"1\" class=\"dataframe\">\n",
       "  <thead>\n",
       "    <tr style=\"text-align: right;\">\n",
       "      <th></th>\n",
       "      <th>timestamp</th>\n",
       "      <th>event</th>\n",
       "      <th>person</th>\n",
       "      <th>url</th>\n",
       "      <th>sku</th>\n",
       "      <th>model</th>\n",
       "      <th>condition</th>\n",
       "      <th>storage</th>\n",
       "      <th>color</th>\n",
       "      <th>skus</th>\n",
       "      <th>...</th>\n",
       "      <th>search_engine</th>\n",
       "      <th>channel</th>\n",
       "      <th>new_vs_returning</th>\n",
       "      <th>city</th>\n",
       "      <th>region</th>\n",
       "      <th>country</th>\n",
       "      <th>device_type</th>\n",
       "      <th>screen_resolution</th>\n",
       "      <th>operating_system_version</th>\n",
       "      <th>browser_version</th>\n",
       "    </tr>\n",
       "  </thead>\n",
       "  <tbody>\n",
       "    <tr>\n",
       "      <th>0</th>\n",
       "      <td>2018-05-31 23:38:05</td>\n",
       "      <td>ad campaign hit</td>\n",
       "      <td>0004b0a2</td>\n",
       "      <td>/comprar/iphone/iphone-5s</td>\n",
       "      <td>NaN</td>\n",
       "      <td>NaN</td>\n",
       "      <td>NaN</td>\n",
       "      <td>NaN</td>\n",
       "      <td>NaN</td>\n",
       "      <td>NaN</td>\n",
       "      <td>...</td>\n",
       "      <td>NaN</td>\n",
       "      <td>NaN</td>\n",
       "      <td>NaN</td>\n",
       "      <td>NaN</td>\n",
       "      <td>NaN</td>\n",
       "      <td>NaN</td>\n",
       "      <td>NaN</td>\n",
       "      <td>NaN</td>\n",
       "      <td>NaN</td>\n",
       "      <td>NaN</td>\n",
       "    </tr>\n",
       "  </tbody>\n",
       "</table>\n",
       "<p>1 rows × 23 columns</p>\n",
       "</div>"
      ],
      "text/plain": [
       "             timestamp            event    person                        url  \\\n",
       "0  2018-05-31 23:38:05  ad campaign hit  0004b0a2  /comprar/iphone/iphone-5s   \n",
       "\n",
       "   sku model condition storage color skus       ...       search_engine  \\\n",
       "0  NaN   NaN       NaN     NaN   NaN  NaN       ...                 NaN   \n",
       "\n",
       "  channel new_vs_returning city region country device_type screen_resolution  \\\n",
       "0     NaN              NaN  NaN    NaN     NaN         NaN               NaN   \n",
       "\n",
       "  operating_system_version browser_version  \n",
       "0                      NaN             NaN  \n",
       "\n",
       "[1 rows x 23 columns]"
      ]
     },
     "execution_count": 126,
     "metadata": {},
     "output_type": "execute_result"
    }
   ],
   "source": [
    "df_events[df_events[\"event\"]==\"ad campaign hit\"].head(1)"
   ]
  },
  {
   "cell_type": "code",
   "execution_count": 144,
   "metadata": {},
   "outputs": [
    {
     "data": {
      "text/plain": [
       "/vender/                                      138\n",
       "/vender/lg                                     22\n",
       "/vender/motorola/moto-g5-plus                  19\n",
       "/vender/motorola/moto-z2-play                  14\n",
       "/vender/samsung/galaxy-s5                       8\n",
       "/vender/motorola/moto-z2-force                  6\n",
       "/vender/lg/lg-l80-dual                          4\n",
       "/vender/samsung/galaxy-s8-plus                  3\n",
       "/vender/motorola/moto-g5s-plus                  2\n",
       "/vender                                         2\n",
       "/vender/motorola/moto-e-2a-geracao-4g-dual      2\n",
       "/vender/motorola                                1\n",
       "Name: url, dtype: int64"
      ]
     },
     "execution_count": 144,
     "metadata": {},
     "output_type": "execute_result"
    }
   ],
   "source": [
    "## Eventos vender\n",
    "df_events[\"es_vender\"] = df_events[df_events[\"event\"]==\"ad campaign hit\"][\"url\"].str.contains(\"/vender\")\n",
    "df_vendiendo = df_events[df_events[\"es_vender\"]==True]\n",
    "\n",
    "## Personas vendiendo\n",
    "df_vendiendo[\"person\"].value_counts()\n",
    "\n",
    "## Modelos a vender\n",
    "df_vendiendo[\"url\"].value_counts()\n",
    "\n",
    "## Podemos ver que las url a las que llegaron los usuarios son de brasil, por lo que tal vez\n",
    "## personas de otros países no esten queriendo/intentando/pudiendo vender (argentina no puede por ej.)"
   ]
  },
  {
   "cell_type": "code",
   "execution_count": 145,
   "metadata": {},
   "outputs": [
    {
     "data": {
      "text/plain": [
       "/comprar/iphone                                     4132\n",
       "/comprar/iphone/6s                                  3393\n",
       "/comprar/iphone/6                                   3228\n",
       "/comprar/samsung                                    2782\n",
       "/comprar/iphone/iphone-5s                           2689\n",
       "/comprar/samsung/galaxy-j5                          2446\n",
       "/comprar/samsung/galaxy-s7-edge                     1972\n",
       "/comprar/samsung/galaxy-s8                          1499\n",
       "/comprar/samsung/galaxy-j7                          1465\n",
       "/comprar/samsung/galaxy-s6-edge                     1415\n",
       "/comprar/motorola                                   1154\n",
       "/comprar/samsung/galaxy-s7                          1139\n",
       "/comprar/iphone/7                                   1120\n",
       "/comprar/samsung/galaxy-s6-flat                     1067\n",
       "/comprar/iphone/iphone-6s-plus                       947\n",
       "/comprar/samsung/samsung-gran-prime-duos-tv          944\n",
       "/comprar/samsung/a5                                  906\n",
       "/comprar/samsung/                                    902\n",
       "/comprar/samsung/galaxy-s8-plus                      849\n",
       "/comprar/iphone/iphone-se                            795\n",
       "/comprar/iphone/iphone-5c                            722\n",
       "/comprar/iphone/iphone-5                             716\n",
       "/comprar/samsung/galaxy-j7-prime                     697\n",
       "/comprar/iphone/7-plus                               675\n",
       "/comprar/motorola/moto-g-2a-geracao                  602\n",
       "/comprar/samsung/galaxy-s6-edge-plus                 522\n",
       "/comprar/iphone/                                     520\n",
       "/comprar/motorola/moto-x-play-4g-dual                460\n",
       "/comprar/iphone/6-plus                               426\n",
       "/comprar/samsung/galaxy-s5                           423\n",
       "                                                    ... \n",
       "/comprar/asus/zenfone-selfie                           3\n",
       "/comprar/lenovo                                        3\n",
       "/comprar/samsung/galaxy-gran-neo-plus-duos             3\n",
       "/comprar/motorola/moto-e-2a-geracao                    3\n",
       "/comprar/motorola/moto-z2-force                        3\n",
       "/comprar/samsung/galaxy-tab-e-7-wifi                   3\n",
       "/comprar/motorola/razr-hd                              3\n",
       "/comprar/samsung/gear-s3-frontier                      3\n",
       "/comprar/ipad/ipad-air-wi-fi                           2\n",
       "/comprar/motorola/razr-d3                              2\n",
       "/comprar/samsung/galaxy-tab-a-com-spen-8-wifi-4g       2\n",
       "/comprar/quantum/quantum-muv                           2\n",
       "/comprar/ipad/4-wi-fi                                  2\n",
       "/comprar/quantum/you                                   2\n",
       "/comprar/apple/iphone-6s-plus                          2\n",
       "/comprar/asus/zenfone-2-laser                          2\n",
       "/comprar/iphone/iphone-5/                              1\n",
       "/comprar/lg/lg-g-pro-lite-dual-d685                    1\n",
       "/comprar/lg/lg-g2-mini-d618                            1\n",
       "/comprar/samsung/galaxy-tab-e-96-wifi-3g               1\n",
       "/comprar/ipad/ipad-mini-2-wi-fi                        1\n",
       "/comprar/ipad/3-wi-fi-4g                               1\n",
       "/comprar/motorola/moto-x                               1\n",
       "/comprar/samsung/gran-prime-duos                       1\n",
       "/comprar/asus/zenfone-3-max-32gb                       1\n",
       "/comprar/lg/lg-g2-mini-d618-dual                       1\n",
       "/comprar/quantum/muv-up                                1\n",
       "/comprar/samsung/galaxy-mega-duos                      1\n",
       "/comprar/motorola/razr-d3/                             1\n",
       "/comprar/lg/lg-g4-stylus-hdtv-h540t                    1\n",
       "Name: url, Length: 212, dtype: int64"
      ]
     },
     "execution_count": 145,
     "metadata": {},
     "output_type": "execute_result"
    }
   ],
   "source": [
    "# Eventos comprar\n",
    "df_events[\"es_comprar\"] = df_events[df_events[\"event\"]==\"ad campaign hit\"][\"url\"].str.contains(\"/comprar\")\n",
    "df_comprando = df_events[df_events[\"es_comprar\"]==True]\n",
    "\n",
    "# Personas comprando\n",
    "df_comprando[\"person\"].value_counts()\n",
    "\n",
    "# Modelos a comprar\n",
    "df_comprando[\"url\"].value_counts()\n",
    "\n",
    "## Vemos que las marcas que insinúan a la gente a clickear las publicidades son\n",
    "## iphone, samsung y motorola (en orden)"
   ]
  },
  {
   "cell_type": "code",
   "execution_count": null,
   "metadata": {},
   "outputs": [],
   "source": []
  }
 ],
 "metadata": {
  "kernelspec": {
   "display_name": "Python 3",
   "language": "python",
   "name": "python3"
  },
  "language_info": {
   "codemirror_mode": {
    "name": "ipython",
    "version": 3
   },
   "file_extension": ".py",
   "mimetype": "text/x-python",
   "name": "python",
   "nbconvert_exporter": "python",
   "pygments_lexer": "ipython3",
   "version": "3.7.0"
  }
 },
 "nbformat": 4,
 "nbformat_minor": 2
}
