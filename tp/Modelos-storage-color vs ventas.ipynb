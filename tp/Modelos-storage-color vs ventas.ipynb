{
 "cells": [
  {
   "cell_type": "code",
   "execution_count": 2,
   "metadata": {},
   "outputs": [],
   "source": [
    "import pandas as pd\n",
    "import numpy as np\n",
    "import matplotlib.pyplot as plt\n",
    "import seaborn as sns\n",
    "\n",
    "%matplotlib inline\n",
    "\n",
    "plt.style.use('default') # haciendo los graficos un poco mas bonitos en matplotlib\n",
    "#plt.rcParams['figure.figsize'] = (20, 10)\n",
    "\n",
    "sns.set(style=\"whitegrid\") # seteando tipo de grid en seaborn"
   ]
  },
  {
   "cell_type": "code",
   "execution_count": 3,
   "metadata": {},
   "outputs": [],
   "source": [
    "types= {\n",
    "    \"event\": \"category\", \n",
    "    \"model\": \"category\", \n",
    "    \"condition\": \"category\", \n",
    "    \"color\": \"category\", \n",
    "    \"storage\": \"category\"\n",
    "}\n",
    "df_events = pd.read_csv(\"events.csv\", dtype=types, low_memory=False)"
   ]
  },
  {
   "cell_type": "code",
   "execution_count": null,
   "metadata": {},
   "outputs": [],
   "source": [
    "#df_events.columns"
   ]
  },
  {
   "cell_type": "code",
   "execution_count": null,
   "metadata": {},
   "outputs": [],
   "source": [
    "#df_events.head()\n"
   ]
  },
  {
   "cell_type": "code",
   "execution_count": 4,
   "metadata": {},
   "outputs": [
    {
     "data": {
      "text/html": [
       "<div>\n",
       "<style>\n",
       "    .dataframe thead tr:only-child th {\n",
       "        text-align: right;\n",
       "    }\n",
       "\n",
       "    .dataframe thead th {\n",
       "        text-align: left;\n",
       "    }\n",
       "\n",
       "    .dataframe tbody tr th {\n",
       "        vertical-align: top;\n",
       "    }\n",
       "</style>\n",
       "<table border=\"1\" class=\"dataframe\">\n",
       "  <thead>\n",
       "    <tr style=\"text-align: right;\">\n",
       "      <th></th>\n",
       "      <th>model</th>\n",
       "      <th>storage</th>\n",
       "      <th>event</th>\n",
       "      <th>color</th>\n",
       "    </tr>\n",
       "  </thead>\n",
       "  <tbody>\n",
       "    <tr>\n",
       "      <th>220</th>\n",
       "      <td>Motorola Moto X2</td>\n",
       "      <td>32GB</td>\n",
       "      <td>conversion</td>\n",
       "      <td>Couro Vintage</td>\n",
       "    </tr>\n",
       "    <tr>\n",
       "      <th>2282</th>\n",
       "      <td>Samsung Galaxy Core Plus Duos TV</td>\n",
       "      <td>4GB</td>\n",
       "      <td>conversion</td>\n",
       "      <td>Branco</td>\n",
       "    </tr>\n",
       "    <tr>\n",
       "      <th>2547</th>\n",
       "      <td>Samsung Galaxy S6 Flat</td>\n",
       "      <td>32GB</td>\n",
       "      <td>conversion</td>\n",
       "      <td>Branco</td>\n",
       "    </tr>\n",
       "    <tr>\n",
       "      <th>4245</th>\n",
       "      <td>iPhone 5s</td>\n",
       "      <td>32GB</td>\n",
       "      <td>conversion</td>\n",
       "      <td>Cinza espacial</td>\n",
       "    </tr>\n",
       "    <tr>\n",
       "      <th>6985</th>\n",
       "      <td>Samsung Galaxy J5</td>\n",
       "      <td>16GB</td>\n",
       "      <td>conversion</td>\n",
       "      <td>Preto</td>\n",
       "    </tr>\n",
       "  </tbody>\n",
       "</table>\n",
       "</div>"
      ],
      "text/plain": [
       "                                 model storage       event           color\n",
       "220                   Motorola Moto X2    32GB  conversion   Couro Vintage\n",
       "2282  Samsung Galaxy Core Plus Duos TV     4GB  conversion          Branco\n",
       "2547            Samsung Galaxy S6 Flat    32GB  conversion          Branco\n",
       "4245                         iPhone 5s    32GB  conversion  Cinza espacial\n",
       "6985                 Samsung Galaxy J5    16GB  conversion           Preto"
      ]
     },
     "execution_count": 4,
     "metadata": {},
     "output_type": "execute_result"
    }
   ],
   "source": [
    "models = df_events.loc[df_events[\"storage\"].isnull() == False,:]\n",
    "models = models[[\"model\",\"storage\",\"event\",\"color\"]]\n",
    "models = models.loc[models[\"event\"] == \"conversion\" ,:]\n",
    "models.head()"
   ]
  },
  {
   "cell_type": "code",
   "execution_count": null,
   "metadata": {},
   "outputs": [],
   "source": [
    "models.count()"
   ]
  },
  {
   "cell_type": "markdown",
   "metadata": {},
   "source": [
    "# Cantidad de compras para los distintos tipos de alamacenamiento interno"
   ]
  },
  {
   "cell_type": "code",
   "execution_count": null,
   "metadata": {},
   "outputs": [],
   "source": [
    "storage = models[\"storage\"].value_counts()\n",
    "storage.index = [16,32,64,8,128,4,256,0.512]\n",
    "storage = storage.sort_index()\n",
    "#storage.index = [\"256GB\",\"128GB\",\"64GB\",\"32GB\",\"16GB\",\"8GB\",\"4GB\",\"512MB\"]\n",
    "storage"
   ]
  },
  {
   "cell_type": "code",
   "execution_count": null,
   "metadata": {},
   "outputs": [],
   "source": [
    "ax = storage.plot(kind = 'bar', title = \"Cantidad de compras vs Almacenamiento interno\",figsize =(10,8),legend = False, fontsize = 12)\n",
    "ax.set_xlabel(\"Almacenamiento interno\", fontsize = 18)\n",
    "ax.set_ylabel(\"Cantidad de compras\",fontsize = 18)\n",
    "ax.set_xticklabels([\"512MB\",\"4GB\",\"8GB\",\"16GB\",\"32GB\",\"64GB\",\"128GB\",\"256GB\"])\n",
    "plt.show()"
   ]
  },
  {
   "cell_type": "markdown",
   "metadata": {},
   "source": [
    "# Modelos más comprados"
   ]
  },
  {
   "cell_type": "code",
   "execution_count": null,
   "metadata": {},
   "outputs": [],
   "source": [
    "model = models[\"model\"].value_counts()\n",
    "model = model.head(20)\n",
    "model.head(20)"
   ]
  },
  {
   "cell_type": "code",
   "execution_count": null,
   "metadata": {},
   "outputs": [],
   "source": [
    "ax = model.plot(kind = 'barh', title = \"Models vs compras\",figsize =(10,8),legend = False, fontsize = 10)\n",
    "ax.set_xlabel(\"Cantidad de compras\",fontsize = 18)\n",
    "ax.set_ylabel(\"Modelos\",fontsize = 18)\n",
    "plt.show()"
   ]
  },
  {
   "cell_type": "markdown",
   "metadata": {},
   "source": [
    "# Distintos colores por cantidad de compras  "
   ]
  },
  {
   "cell_type": "code",
   "execution_count": 14,
   "metadata": {},
   "outputs": [
    {
     "data": {
      "text/plain": [
       "Preto               368\n",
       "Dourado             269\n",
       "Branco              216\n",
       "Cinza espacial       89\n",
       "Prateado             51\n",
       "Ouro Rosa            32\n",
       "Rosa                 30\n",
       "Cinza                23\n",
       "Azul                 22\n",
       "Preto Vermelho       11\n",
       "Prata                 8\n",
       "Platinum              7\n",
       "Branco Vermelho       6\n",
       "Preto Matte           6\n",
       "Ouro                  4\n",
       "Ametista              4\n",
       "Titânio               4\n",
       "Indigo                3\n",
       "Amarelo               2\n",
       "Cabernet              2\n",
       "Vermelho              2\n",
       "Bambu                 2\n",
       "Preto Azul            1\n",
       "Azul Topázio          1\n",
       "Couro Vintage         1\n",
       "Cobre                 0\n",
       "Branco Framboesa      0\n",
       "Branco Verde          0\n",
       "Branco Pink           0\n",
       "Couro Marrom          0\n",
       "Name: color, dtype: int64"
      ]
     },
     "execution_count": 14,
     "metadata": {},
     "output_type": "execute_result"
    }
   ],
   "source": [
    "color = models[\"color\"].value_counts()\n",
    "color = color.head(30)\n",
    "color"
   ]
  },
  {
   "cell_type": "markdown",
   "metadata": {},
   "source": [
    "colores = {\"Preto\" : \"Negro\", \"Dourado\" : \"Dorado\", \"Cinza espacial\" : \"Negro\", \"Branco\": \"Blanco\", \"Prateado\" : \"Plata\", \"Ouro Rosa\" : \"Rosa\", \"Prata\" : \"Plata\", \"Rosa\" : \"Rosa\",\n",
    "          \"Preto Matte\": \"Negro\", \"Platinum\" :\"Plata\", \"Cinza\" : \"Plata\", \"Azul\": \"Azul\", \"Ametista\": \"Otros\", \"Ouro\": \"Dorado\", \"Preto Brilhante\" : \"Negro\", \"Vermelho\": \"Otros\",\n",
    "          \"Bambu\":\"Otros\",\"Preto Vermelho\": \"Negro\",\"Titânio\": \"Otros\", \"Verde\": \"Otros\", \"Branco Vermelho\" : \"Blanco\", \"indigo\": \"Otros\", \"Amarelo\": \"Otros\", \"Cabernet\": \"Otros\", \n",
    "          \"Couro Vintage\": \"Otros\", \"Azul Topázio\": \"Azul\"}\n",
    "\n"
   ]
  },
  {
   "cell_type": "code",
   "execution_count": 15,
   "metadata": {},
   "outputs": [
    {
     "data": {
      "text/plain": [
       "Negro     475\n",
       "Dorado    273\n",
       "Blanco    222\n",
       "Plata      93\n",
       "Rosa       62\n",
       "Azul       23\n",
       "Otros      16\n",
       "Name: in_color, dtype: int64"
      ]
     },
     "execution_count": 15,
     "metadata": {},
     "output_type": "execute_result"
    }
   ],
   "source": [
    "colores = {\"Preto\" : \"Negro\", \"Dourado\" : \"Dorado\", \"Branco\" : \"Blanco\", \"Cinza espacial\" : \"Negro\", \"Prateado\" : \"Plata\", \"Ouro Rosa\" : \"Rosa\",\n",
    "\"Rosa\": \"Rosa\", \"Cinza\" : \"Plata\", \"Azul\" : \"Azul\", \"Preto Vermelho\" : \"Negro\", \"Prata\" : \"Plata\", \"Platinum\" : \"Plata\", \"Preto Matte\" : \"Negro\",\n",
    "\"Branco Vermelho\" : \"Blanco\", \"Ouro\" : \"Dorado\", \"Titânio\" : \"Plata\", \"Ametista\" : \"Otros\", \"Preto Brillhante\" : \"Negro\", \"Indigo\" : \"Otros\",\n",
    "\"Amarelo\" : \"Otros\", \"Vermelho\" : \"Otros\", \"Bambu\" : \"Otros\", \"Cabernet\" : \"Otros\", \"Preto Azul\" : \"Negro\", \"Couro Vintage\" : \"Otros\", \"Azul Topázio\" : \"Azul\"}\n",
    "\n",
    "models[\"in_color\"] = models['color'].apply(lambda x: colores.get(x, 'Basura'))\n",
    "\n",
    "models = models.loc[models['in_color'] != 'Basura']\n",
    "colores = models['in_color'].value_counts()\n",
    "colores\n"
   ]
  },
  {
   "cell_type": "code",
   "execution_count": 16,
   "metadata": {},
   "outputs": [],
   "source": [
    "#colores = {\"Negro\": color[\"Preto\"] + color[\"Cinza espacial\"] + color[\"Preto Matte\"] + color[\"Preto Brilhante\"] ,\n",
    "#           \"Plata\": color[\"Prateado\"] + color[\"Prata\"] + color[\"Platinum\"] + color[\"Cinza\"] + color[\"Titânio\"] ,\n",
    "#           \"Dorado\": color[\"Ouro\"] + color[\"Dourado\"],\n",
    "#            \"Rosa\": color[\"Ouro Rosa\"] + color[\"Rosa\"],\n",
    "#           \"Azul\": color[\"Azul\"], \"Otros\" : color[\"Ametista\"] + color[\"Vermelho\"] +  color[\"Bambu\"] +  color[\"Preto Vermelho\"] + color[\"Verde\"]}\n",
    "#colores\n",
    "\n",
    "#plt.bar(range(len(colores)), list(colores.values()))\n",
    "#plt.xticks(range(len(colores)), list(colores.keys()))\n",
    "         "
   ]
  },
  {
   "cell_type": "code",
   "execution_count": 17,
   "metadata": {},
   "outputs": [
    {
     "data": {
      "image/png": "[encoded data removed]",
      "text/plain": [
       "<matplotlib.figure.Figure at 0x1032d3b10>"
      ]
     },
     "metadata": {},
     "output_type": "display_data"
    }
   ],
   "source": [
    "ax = colores.plot(kind = 'bar', title = \"Colores de smartphones vs Cantidad de compras\",figsize =(10,8),legend = False, fontsize = 12,color = [[\"#000000\",\"#DCC6AE\",\"#F6F7F9\",\"#DFE0E2\",\"#F1C1BD\" ,\"#3F5796\",\"#C72233\"]])\n",
    "ax.set_xlabel(\"Colores\",fontsize = 18)\n",
    "ax.set_ylabel(\"Cantidad de compras\",fontsize = 18)\n",
    "\n",
    "plt.show()"
   ]
  },
  {
   "cell_type": "markdown",
   "metadata": {},
   "source": [
    "## No se puede ver el color sefun pais, debido que no hay datos del mismo\n",
    "\n",
    "models = df_events.loc[df_events[\"color\"].isnull() == False,:]\n",
    "models = models[[\"model\",\"storage\",\"event\",\"color\",'country']]\n",
    "models = models.loc[models[\"event\"] == \"checkout\" ,:]\n",
    "models.head()\n",
    "\n",
    "#models2 = models.loc[models['country'].isnull() == False,:]\n",
    "#models2\n",
    "models.count()"
   ]
  },
  {
   "cell_type": "code",
   "execution_count": null,
   "metadata": {},
   "outputs": [],
   "source": []
  },
  {
   "cell_type": "code",
   "execution_count": null,
   "metadata": {},
   "outputs": [],
   "source": []
  },
  {
   "cell_type": "code",
   "execution_count": null,
   "metadata": {},
   "outputs": [],
   "source": []
  }
 ],
 "metadata": {
  "kernelspec": {
   "display_name": "Python 2",
   "language": "python",
   "name": "python2"
  },
  "language_info": {
   "codemirror_mode": {
    "name": "ipython",
    "version": 2
   },
   "file_extension": ".py",
   "mimetype": "text/x-python",
   "name": "python",
   "nbconvert_exporter": "python",
   "pygments_lexer": "ipython2",
   "version": "2.7.14"
  }
 },
 "nbformat": 4,
 "nbformat_minor": 2
}
