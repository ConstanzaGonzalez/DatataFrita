{
 "cells": [
  {
   "cell_type": "code",
   "execution_count": 52,
   "metadata": {},
   "outputs": [],
   "source": [
    "from random import randint\n",
    "from sklearn import tree\n",
    "from sklearn.model_selection import cross_val_score\n",
    "from sklearn.model_selection import train_test_split\n",
    "from sklearn.metrics import classification_report, confusion_matrix, roc_auc_score\n",
    "import pandas as pd\n",
    "import numpy as np"
   ]
  },
  {
   "cell_type": "code",
   "execution_count": 53,
   "metadata": {},
   "outputs": [
    {
     "name": "stdout",
     "output_type": "stream",
     "text": [
      "<class 'pandas.core.frame.DataFrame'>\n",
      "Index: 38829 entries, 4886f805 to 80aea0a0\n",
      "Data columns (total 14 columns):\n",
      "cant_conversions               38829 non-null float64\n",
      "cant_checkouts                 38829 non-null float64\n",
      "cant_viewed_product            38829 non-null float64\n",
      "cant_searched_product          38829 non-null float64\n",
      "cant_ad_campaign_hit           38829 non-null float64\n",
      "ad_campaign_hit                38829 non-null bool\n",
      "cant_lead                      38829 non-null float64\n",
      "lead                           38829 non-null bool\n",
      "cant_brand_listing             38829 non-null float64\n",
      "cant_visited_site              38829 non-null float64\n",
      "cant_generic_listing           38829 non-null float64\n",
      "total_sesiones                 38829 non-null int64\n",
      "promedio_eventos_por_sesion    38829 non-null float64\n",
      "proprosion                     38829 non-null float64\n",
      "dtypes: bool(2), float64(11), int64(1)\n",
      "memory usage: 3.9+ MB\n"
     ]
    }
   ],
   "source": [
    "df1 = pd.read_csv('data/features_basicas.csv', low_memory=False, index_col='person')\n",
    "df1[\"proprosion\"] = np.where(df1[\"cant_viewed_product\"]>0, (df1[\"cant_checkouts\"]/df1[\"cant_viewed_product\"]),0)\n",
    "df1.info()"
   ]
  },
  {
   "cell_type": "code",
   "execution_count": 54,
   "metadata": {},
   "outputs": [
    {
     "name": "stdout",
     "output_type": "stream",
     "text": [
      "<class 'pandas.core.frame.DataFrame'>\n",
      "Index: 38829 entries, 4886f805 to 80aea0a0\n",
      "Data columns (total 19 columns):\n",
      "cant_conversions               38829 non-null float64\n",
      "cant_checkouts                 38829 non-null float64\n",
      "cant_viewed_product            38829 non-null float64\n",
      "cant_searched_product          38829 non-null float64\n",
      "cant_ad_campaign_hit           38829 non-null float64\n",
      "ad_campaign_hit                38829 non-null bool\n",
      "cant_lead                      38829 non-null float64\n",
      "lead                           38829 non-null bool\n",
      "cant_brand_listing             38829 non-null float64\n",
      "cant_visited_site              38829 non-null float64\n",
      "cant_generic_listing           38829 non-null float64\n",
      "total_sesiones                 38829 non-null int64\n",
      "promedio_eventos_por_sesion    38829 non-null float64\n",
      "proprosion                     38829 non-null float64\n",
      "timestamp                      38829 non-null int64\n",
      "min_timestamp                  38829 non-null int64\n",
      "sum_timestamp                  38829 non-null float64\n",
      "prom_timestamp                 38829 non-null int64\n",
      "ult_view                       38829 non-null float64\n",
      "dtypes: bool(2), float64(13), int64(4)\n",
      "memory usage: 6.7+ MB\n"
     ]
    }
   ],
   "source": [
    "df2 = pd.read_csv('data/features_time.csv', low_memory=False, index_col='person')\n",
    "df3 = pd.read_csv('data/sku.csv', low_memory=False, index_col='person')\n",
    "df4 = pd.read_csv('data/features_compras.csv', low_memory=False, index_col='person')\n",
    "\n",
    "\n",
    "######################################################################################\n",
    "\n",
    "\n",
    "df5 = pd.read_csv('data/vistas_promedio.csv', low_memory=False, index_col='person')\n",
    "df6 = pd.read_csv('data/featureUsuarioRealizaAlMenos10EventosEn20Minutos.csv', low_memory=False, index_col='person')\n",
    "df7 = pd.read_csv('data/features_mas_vistos.csv', low_memory=False, index_col='person')\n",
    "\n",
    "df8 = pd.read_csv('data/features_checkout.csv', low_memory=False, index_col='person')\n",
    "df9 = pd.read_csv('data/paises_features.csv', low_memory=False, index_col='person')\n",
    "df10 = pd.read_csv('data/city_features.csv', low_memory=False, index_col='person')\n",
    "df11 = pd.read_csv('data/static.csv', low_memory=False, index_col='person')\n",
    "df12 = pd.read_csv('data/events_fe.csv', low_memory=False, index_col='person')\n",
    "df13 = pd.read_csv('data/channel_device.csv', low_memory=False, index_col='person')\n",
    "df14 = pd.read_csv('data/check.csv', low_memory=False, index_col='person')\n",
    "df15 = pd.read_csv('data/view_sku.csv', low_memory=False, index_col='person')\n",
    "df16 = pd.read_csv('data/event_por_hora.csv', low_memory=False, index_col='person')\n",
    "\n",
    "\n",
    "df_unidos = df1.join(df2).fillna(0)\n",
    "\"\"\"df_unidos = df_unidos.join(df3).fillna(0)\n",
    "df_unidos = df_unidos.join(df4).fillna(0)\n",
    "#df_unidos = df_unidos.join(df5).fillna(0)\n",
    "df_unidos = df_unidos.join(df6).fillna(0)\n",
    "df_unidos = df_unidos.join(df7).fillna(0)\n",
    "df_unidos = df_unidos.join(df8).fillna(0)\n",
    "#df_unidos = df_unidos.join(df9).fillna(0)\n",
    "df_unidos = df_unidos.join(df10).fillna(0)\n",
    "df_unidos = df_unidos.join(df11).fillna(0)\n",
    "df_unidos = df_unidos.join(df12).fillna(0)\n",
    "df_unidos = df_unidos.join(df13).fillna(0)\n",
    "df_unidos = df_unidos.join(df14).fillna(0)\n",
    "df_unidos = df_unidos.join(df15).fillna(0)\n",
    "df_unidos = df_unidos.join(df16).fillna(0)\"\"\"\n",
    "\n",
    "df_unidos.info()"
   ]
  },
  {
   "cell_type": "code",
   "execution_count": null,
   "metadata": {},
   "outputs": [],
   "source": []
  },
  {
   "cell_type": "code",
   "execution_count": 55,
   "metadata": {},
   "outputs": [
    {
     "name": "stdout",
     "output_type": "stream",
     "text": [
      "<class 'pandas.core.frame.DataFrame'>\n",
      "Index: 19414 entries, ad93850f to d8d6b0da\n",
      "Data columns (total 20 columns):\n",
      "cant_conversions               19414 non-null float64\n",
      "cant_checkouts                 19414 non-null float64\n",
      "cant_viewed_product            19414 non-null float64\n",
      "cant_searched_product          19414 non-null float64\n",
      "cant_ad_campaign_hit           19414 non-null float64\n",
      "ad_campaign_hit                19414 non-null bool\n",
      "cant_lead                      19414 non-null float64\n",
      "lead                           19414 non-null bool\n",
      "cant_brand_listing             19414 non-null float64\n",
      "cant_visited_site              19414 non-null float64\n",
      "cant_generic_listing           19414 non-null float64\n",
      "total_sesiones                 19414 non-null int64\n",
      "promedio_eventos_por_sesion    19414 non-null float64\n",
      "proprosion                     19414 non-null float64\n",
      "timestamp                      19414 non-null int64\n",
      "min_timestamp                  19414 non-null int64\n",
      "sum_timestamp                  19414 non-null float64\n",
      "prom_timestamp                 19414 non-null int64\n",
      "ult_view                       19414 non-null float64\n",
      "label                          19414 non-null int64\n",
      "dtypes: bool(2), float64(13), int64(5)\n",
      "memory usage: 2.9+ MB\n"
     ]
    }
   ],
   "source": [
    "labels = pd.read_csv('data/labels_training_set.csv', low_memory=False, index_col='person')\n",
    "\n",
    "df_test = df_unidos.join(labels, how= \"inner\")\n",
    "df_test.info()"
   ]
  },
  {
   "cell_type": "code",
   "execution_count": 56,
   "metadata": {},
   "outputs": [
    {
     "name": "stdout",
     "output_type": "stream",
     "text": [
      "['cant_conversions', 'cant_checkouts', 'cant_viewed_product', 'cant_searched_product', 'cant_ad_campaign_hit', 'ad_campaign_hit', 'cant_lead', 'lead', 'cant_brand_listing', 'cant_visited_site', 'cant_generic_listing', 'total_sesiones', 'promedio_eventos_por_sesion', 'proprosion', 'timestamp', 'min_timestamp', 'sum_timestamp', 'prom_timestamp', 'ult_view']\n"
     ]
    }
   ],
   "source": [
    "features = df_test.columns.tolist()\n",
    "features.remove('label')\n",
    "print(features)"
   ]
  },
  {
   "cell_type": "code",
   "execution_count": 57,
   "metadata": {},
   "outputs": [],
   "source": [
    "X_train, X_test, Y_train, Y_test = train_test_split(df_test[features],\\\n",
    "                                                    df_test['label'], test_size=0.20)"
   ]
  },
  {
   "cell_type": "code",
   "execution_count": 58,
   "metadata": {},
   "outputs": [],
   "source": [
    "param_grid = { \n",
    "    'max_depth' : [2,3,4,5,6,7,8,9,10],\n",
    "    \n",
    "} "
   ]
  },
  {
   "cell_type": "code",
   "execution_count": 59,
   "metadata": {},
   "outputs": [
    {
     "name": "stdout",
     "output_type": "stream",
     "text": [
      "Fitting 5 folds for each of 9 candidates, totalling 45 fits\n",
      "[CV] max_depth=2 .....................................................\n",
      "[CV] max_depth=2 .....................................................\n",
      "[CV] ................. max_depth=2, score=0.72824246529, total=   0.1s\n",
      "[CV] ................ max_depth=2, score=0.757828270612, total=   0.1s\n",
      "[CV] max_depth=2 .....................................................\n",
      "[CV] ................ max_depth=2, score=0.745371205158, total=   0.1s\n",
      "[CV] max_depth=2 .....................................................\n",
      "[CV] ................ max_depth=2, score=0.764017305206, total=   0.1s\n",
      "[CV] max_depth=2 .....................................................\n",
      "[CV] ................ max_depth=2, score=0.744999512904, total=   0.1s\n",
      "[CV] max_depth=3 .....................................................\n",
      "[CV] ................ max_depth=3, score=0.801363130605, total=   0.1s\n"
     ]
    },
    {
     "name": "stderr",
     "output_type": "stream",
     "text": [
      "[Parallel(n_jobs=-1)]: Done   5 tasks      | elapsed:    1.0s\n"
     ]
    },
    {
     "name": "stdout",
     "output_type": "stream",
     "text": [
      "[CV] max_depth=3 .....................................................\n",
      "[CV] ................ max_depth=3, score=0.814154436826, total=   0.1s\n",
      "[CV] max_depth=3 .....................................................\n",
      "[CV] ................ max_depth=3, score=0.814748153979, total=   0.1s\n",
      "[CV] max_depth=3 .....................................................\n",
      "[CV] ................ max_depth=3, score=0.808084028553, total=   0.1s\n",
      "[CV] max_depth=3 .....................................................\n",
      "[CV] ................ max_depth=3, score=0.802747002143, total=   0.1s\n",
      "[CV] max_depth=4 .....................................................\n",
      "[CV] ................ max_depth=4, score=0.805457580009, total=   0.1s\n"
     ]
    },
    {
     "name": "stderr",
     "output_type": "stream",
     "text": [
      "[Parallel(n_jobs=-1)]: Done  10 tasks      | elapsed:    1.8s\n"
     ]
    },
    {
     "name": "stdout",
     "output_type": "stream",
     "text": [
      "[CV] max_depth=4 .....................................................\n",
      "[CV] ................ max_depth=4, score=0.822254278062, total=   0.1s\n",
      "[CV] max_depth=4 .....................................................\n",
      "[CV] ................ max_depth=4, score=0.818060875799, total=   0.1s\n",
      "[CV] max_depth=4 .....................................................\n",
      "[CV] ................. max_depth=4, score=0.80045543511, total=   0.1s\n",
      "[CV] max_depth=4 .....................................................\n",
      "[CV] ................ max_depth=4, score=0.815990488336, total=   0.1s\n",
      "[CV] max_depth=5 .....................................................\n",
      "[CV] ................ max_depth=5, score=0.799188366662, total=   0.1s\n",
      "[CV] max_depth=5 .....................................................\n",
      "[CV] ................ max_depth=5, score=0.826596109613, total=   0.1s\n",
      "[CV] max_depth=5 .....................................................\n",
      "[CV] ................ max_depth=5, score=0.825189879541, total=   0.1s\n"
     ]
    },
    {
     "name": "stderr",
     "output_type": "stream",
     "text": [
      "[Parallel(n_jobs=-1)]: Done  17 tasks      | elapsed:    3.0s\n"
     ]
    },
    {
     "name": "stdout",
     "output_type": "stream",
     "text": [
      "[CV] max_depth=5 .....................................................\n",
      "[CV] ................ max_depth=5, score=0.813766450573, total=   0.1s\n",
      "[CV] max_depth=5 .....................................................\n",
      "[CV] ................ max_depth=5, score=0.809478895443, total=   0.2s\n",
      "[CV] max_depth=6 .....................................................\n",
      "[CV] ................ max_depth=6, score=0.786844547258, total=   0.1s\n",
      "[CV] max_depth=6 .....................................................\n",
      "[CV] max_depth=6 .....................................................\n",
      "[CV] ................ max_depth=6, score=0.803423549021, total=   0.2s\n",
      "[CV] max_depth=6 .....................................................\n",
      "[CV] ................ max_depth=6, score=0.822285063396, total=   0.1s\n",
      "[CV] ................ max_depth=6, score=0.800700090334, total=   0.1s\n",
      "[CV] max_depth=6 .....................................................\n",
      "[CV] max_depth=7 .....................................................\n",
      "[CV] ................ max_depth=6, score=0.785834794622, total=   0.1s\n"
     ]
    },
    {
     "name": "stderr",
     "output_type": "stream",
     "text": [
      "[Parallel(n_jobs=-1)]: Done  24 tasks      | elapsed:    4.4s\n"
     ]
    },
    {
     "name": "stdout",
     "output_type": "stream",
     "text": [
      "[CV] max_depth=7 .....................................................\n",
      "[CV] ................ max_depth=7, score=0.775672769493, total=   0.2s\n",
      "[CV] max_depth=7 .....................................................\n",
      "[CV] ................ max_depth=7, score=0.789570148781, total=   0.1s\n",
      "[CV] max_depth=7 .....................................................\n",
      "[CV] ................ max_depth=7, score=0.802525276958, total=   0.2s\n",
      "[CV] max_depth=7 .....................................................\n",
      "[CV] ................ max_depth=7, score=0.761445657757, total=   0.3s\n",
      "[CV] max_depth=8 .....................................................\n",
      "[CV] ................ max_depth=7, score=0.767958357688, total=   0.3s\n",
      "[CV] max_depth=8 .....................................................\n",
      "[CV] ................ max_depth=8, score=0.771300152607, total=   0.3s\n",
      "[CV] max_depth=8 .....................................................\n",
      "[CV] ................ max_depth=8, score=0.776298371456, total=   0.4s\n",
      "[CV] max_depth=8 .....................................................\n",
      "[CV] ................ max_depth=8, score=0.773386958453, total=   0.2s\n",
      "[CV] max_depth=8 .....................................................\n",
      "[CV] ................ max_depth=8, score=0.720634730857, total=   0.2s\n"
     ]
    },
    {
     "name": "stderr",
     "output_type": "stream",
     "text": [
      "[Parallel(n_jobs=-1)]: Done  33 tasks      | elapsed:    6.4s\n"
     ]
    },
    {
     "name": "stdout",
     "output_type": "stream",
     "text": [
      "[CV] max_depth=9 .....................................................\n",
      "[CV] ................ max_depth=8, score=0.773100545548, total=   0.2s\n",
      "[CV] max_depth=9 .....................................................\n",
      "[CV] ................ max_depth=9, score=0.730210527705, total=   0.2s\n",
      "[CV] max_depth=9 .....................................................\n",
      "[CV] ................ max_depth=9, score=0.738304871559, total=   0.3s\n",
      "[CV] max_depth=9 .....................................................\n",
      "[CV] ................ max_depth=9, score=0.741503247853, total=   0.4s\n",
      "[CV] max_depth=9 .....................................................\n",
      "[CV] ................ max_depth=9, score=0.663533751351, total=   0.3s\n",
      "[CV] max_depth=10 ....................................................\n",
      "[CV] ................ max_depth=9, score=0.707583869139, total=   0.4s\n",
      "[CV] max_depth=10 ....................................................\n",
      "[CV] ............... max_depth=10, score=0.673033366904, total=   0.3s\n",
      "[CV] max_depth=10 ....................................................\n",
      "[CV] ............... max_depth=10, score=0.719588488044, total=   0.3s\n",
      "[CV] max_depth=10 ....................................................\n",
      "[CV] ............... max_depth=10, score=0.703973726916, total=   0.2s\n",
      "[CV] max_depth=10 ....................................................\n",
      "[CV] ............... max_depth=10, score=0.638390722143, total=   0.2s\n"
     ]
    },
    {
     "name": "stderr",
     "output_type": "stream",
     "text": [
      "[Parallel(n_jobs=-1)]: Done  43 out of  45 | elapsed:    8.5s remaining:    0.4s\n"
     ]
    },
    {
     "name": "stdout",
     "output_type": "stream",
     "text": [
      "[CV] ............... max_depth=10, score=0.670723958057, total=   0.2s\n"
     ]
    },
    {
     "name": "stderr",
     "output_type": "stream",
     "text": [
      "[Parallel(n_jobs=-1)]: Done  45 out of  45 | elapsed:    8.8s finished\n"
     ]
    },
    {
     "data": {
      "text/plain": [
       "GridSearchCV(cv=5, error_score='raise',\n",
       "       estimator=DecisionTreeClassifier(class_weight=None, criterion='gini', max_depth=None,\n",
       "            max_features=None, max_leaf_nodes=None,\n",
       "            min_impurity_decrease=0.0, min_impurity_split=None,\n",
       "            min_samples_leaf=1, min_samples_split=2,\n",
       "            min_weight_fraction_leaf=0.0, presort=False, random_state=None,\n",
       "            splitter='best'),\n",
       "       fit_params=None, iid=True, n_jobs=-1,\n",
       "       param_grid={'max_depth': [2, 3, 4, 5, 6, 7, 8, 9, 10]},\n",
       "       pre_dispatch='2*n_jobs', refit=True, return_train_score='warn',\n",
       "       scoring='roc_auc', verbose=10)"
      ]
     },
     "execution_count": 59,
     "metadata": {},
     "output_type": "execute_result"
    }
   ],
   "source": [
    "from sklearn.model_selection import GridSearchCV \n",
    "clf = tree.DecisionTreeClassifier()\n",
    "CV_clf = GridSearchCV(estimator=clf, param_grid=param_grid, cv= 5, scoring='roc_auc', n_jobs=-1, verbose=10) \n",
    "CV_clf.fit(X_train, Y_train)"
   ]
  },
  {
   "cell_type": "code",
   "execution_count": 60,
   "metadata": {},
   "outputs": [
    {
     "data": {
      "text/plain": [
       "{'max_depth': 5}"
      ]
     },
     "execution_count": 60,
     "metadata": {},
     "output_type": "execute_result"
    }
   ],
   "source": [
    "CV_clf.best_params_ #aca te dice el mejor hiperparametro"
   ]
  },
  {
   "cell_type": "code",
   "execution_count": 61,
   "metadata": {},
   "outputs": [
    {
     "data": {
      "text/plain": [
       "DecisionTreeClassifier(class_weight=None, criterion='gini', max_depth=5,\n",
       "            max_features=None, max_leaf_nodes=None,\n",
       "            min_impurity_decrease=0.0, min_impurity_split=None,\n",
       "            min_samples_leaf=1, min_samples_split=2,\n",
       "            min_weight_fraction_leaf=0.0, presort=False, random_state=None,\n",
       "            splitter='best')"
      ]
     },
     "execution_count": 61,
     "metadata": {},
     "output_type": "execute_result"
    }
   ],
   "source": [
    "clf = tree.DecisionTreeClassifier(max_depth= 5)\n",
    "clf.fit(X_train,Y_train)"
   ]
  },
  {
   "cell_type": "code",
   "execution_count": 62,
   "metadata": {},
   "outputs": [
    {
     "data": {
      "text/plain": [
       "0.94437290754571213"
      ]
     },
     "execution_count": 62,
     "metadata": {},
     "output_type": "execute_result"
    }
   ],
   "source": [
    "clf.score(X_test,Y_test)"
   ]
  },
  {
   "cell_type": "code",
   "execution_count": 63,
   "metadata": {},
   "outputs": [
    {
     "name": "stdout",
     "output_type": "stream",
     "text": [
      "0.510566628804\n"
     ]
    }
   ],
   "source": [
    "Y_pred = clf.predict(X_test)\n",
    "print(roc_auc_score(Y_test, Y_pred))"
   ]
  },
  {
   "cell_type": "code",
   "execution_count": 64,
   "metadata": {},
   "outputs": [
    {
     "name": "stdout",
     "output_type": "stream",
     "text": [
      "             precision    recall  f1-score   support\n",
      "\n",
      "          0       0.95      1.00      0.97      3671\n",
      "          1       0.36      0.02      0.04       212\n",
      "\n",
      "avg / total       0.91      0.94      0.92      3883\n",
      "\n"
     ]
    }
   ],
   "source": [
    "Y_truths = Y_test\n",
    "print(classification_report(Y_truths, Y_pred))"
   ]
  },
  {
   "cell_type": "code",
   "execution_count": 65,
   "metadata": {},
   "outputs": [
    {
     "name": "stdout",
     "output_type": "stream",
     "text": [
      "[[3662    9]\n",
      " [ 207    5]]\n"
     ]
    }
   ],
   "source": [
    "print(confusion_matrix(Y_truths, Y_pred))"
   ]
  },
  {
   "cell_type": "code",
   "execution_count": 66,
   "metadata": {},
   "outputs": [],
   "source": [
    "feature_importances = pd.DataFrame(clf.feature_importances_,\\\n",
    "                                   index = X_train.columns,\\\n",
    "                                    columns=['importance']).sort_values('importance',ascending=False)"
   ]
  },
  {
   "cell_type": "code",
   "execution_count": 67,
   "metadata": {},
   "outputs": [
    {
     "data": {
      "text/html": [
       "<div>\n",
       "<style>\n",
       "    .dataframe thead tr:only-child th {\n",
       "        text-align: right;\n",
       "    }\n",
       "\n",
       "    .dataframe thead th {\n",
       "        text-align: left;\n",
       "    }\n",
       "\n",
       "    .dataframe tbody tr th {\n",
       "        vertical-align: top;\n",
       "    }\n",
       "</style>\n",
       "<table border=\"1\" class=\"dataframe\">\n",
       "  <thead>\n",
       "    <tr style=\"text-align: right;\">\n",
       "      <th></th>\n",
       "      <th>importance</th>\n",
       "    </tr>\n",
       "  </thead>\n",
       "  <tbody>\n",
       "    <tr>\n",
       "      <th>cant_checkouts</th>\n",
       "      <td>0.395484</td>\n",
       "    </tr>\n",
       "    <tr>\n",
       "      <th>sum_timestamp</th>\n",
       "      <td>0.156838</td>\n",
       "    </tr>\n",
       "    <tr>\n",
       "      <th>timestamp</th>\n",
       "      <td>0.143643</td>\n",
       "    </tr>\n",
       "    <tr>\n",
       "      <th>cant_conversions</th>\n",
       "      <td>0.097797</td>\n",
       "    </tr>\n",
       "    <tr>\n",
       "      <th>cant_viewed_product</th>\n",
       "      <td>0.060144</td>\n",
       "    </tr>\n",
       "    <tr>\n",
       "      <th>promedio_eventos_por_sesion</th>\n",
       "      <td>0.043787</td>\n",
       "    </tr>\n",
       "    <tr>\n",
       "      <th>ult_view</th>\n",
       "      <td>0.042230</td>\n",
       "    </tr>\n",
       "    <tr>\n",
       "      <th>prom_timestamp</th>\n",
       "      <td>0.022755</td>\n",
       "    </tr>\n",
       "    <tr>\n",
       "      <th>cant_brand_listing</th>\n",
       "      <td>0.016030</td>\n",
       "    </tr>\n",
       "    <tr>\n",
       "      <th>cant_generic_listing</th>\n",
       "      <td>0.010123</td>\n",
       "    </tr>\n",
       "    <tr>\n",
       "      <th>cant_ad_campaign_hit</th>\n",
       "      <td>0.007499</td>\n",
       "    </tr>\n",
       "    <tr>\n",
       "      <th>min_timestamp</th>\n",
       "      <td>0.003670</td>\n",
       "    </tr>\n",
       "    <tr>\n",
       "      <th>lead</th>\n",
       "      <td>0.000000</td>\n",
       "    </tr>\n",
       "    <tr>\n",
       "      <th>cant_lead</th>\n",
       "      <td>0.000000</td>\n",
       "    </tr>\n",
       "    <tr>\n",
       "      <th>total_sesiones</th>\n",
       "      <td>0.000000</td>\n",
       "    </tr>\n",
       "    <tr>\n",
       "      <th>ad_campaign_hit</th>\n",
       "      <td>0.000000</td>\n",
       "    </tr>\n",
       "    <tr>\n",
       "      <th>proprosion</th>\n",
       "      <td>0.000000</td>\n",
       "    </tr>\n",
       "    <tr>\n",
       "      <th>cant_searched_product</th>\n",
       "      <td>0.000000</td>\n",
       "    </tr>\n",
       "    <tr>\n",
       "      <th>cant_visited_site</th>\n",
       "      <td>0.000000</td>\n",
       "    </tr>\n",
       "  </tbody>\n",
       "</table>\n",
       "</div>"
      ],
      "text/plain": [
       "                             importance\n",
       "cant_checkouts                 0.395484\n",
       "sum_timestamp                  0.156838\n",
       "timestamp                      0.143643\n",
       "cant_conversions               0.097797\n",
       "cant_viewed_product            0.060144\n",
       "promedio_eventos_por_sesion    0.043787\n",
       "ult_view                       0.042230\n",
       "prom_timestamp                 0.022755\n",
       "cant_brand_listing             0.016030\n",
       "cant_generic_listing           0.010123\n",
       "cant_ad_campaign_hit           0.007499\n",
       "min_timestamp                  0.003670\n",
       "lead                           0.000000\n",
       "cant_lead                      0.000000\n",
       "total_sesiones                 0.000000\n",
       "ad_campaign_hit                0.000000\n",
       "proprosion                     0.000000\n",
       "cant_searched_product          0.000000\n",
       "cant_visited_site              0.000000"
      ]
     },
     "execution_count": 67,
     "metadata": {},
     "output_type": "execute_result"
    }
   ],
   "source": [
    "feature_importances.head(60)"
   ]
  },
  {
   "cell_type": "code",
   "execution_count": 68,
   "metadata": {},
   "outputs": [],
   "source": [
    "df_submit = pd.read_csv('data/trocafone_kaggle_test.csv', low_memory=False, index_col='person')\n",
    "df_events = df_submit.join(df_unidos, how='inner')"
   ]
  },
  {
   "cell_type": "code",
   "execution_count": 69,
   "metadata": {},
   "outputs": [],
   "source": [
    "kaggle_pred = clf.predict_proba(df_events)\n",
    "kaggle_pred\n",
    "proba_de_comprar = [x[1] for x in kaggle_pred]\n",
    "series = pd.Series(proba_de_comprar)\n",
    "df_submit['label'] = series.values"
   ]
  },
  {
   "cell_type": "code",
   "execution_count": 70,
   "metadata": {},
   "outputs": [
    {
     "data": {
      "text/plain": [
       "0.050185860951595176"
      ]
     },
     "execution_count": 70,
     "metadata": {},
     "output_type": "execute_result"
    }
   ],
   "source": [
    "df_submit.label.mean()"
   ]
  },
  {
   "cell_type": "code",
   "execution_count": 71,
   "metadata": {},
   "outputs": [],
   "source": [
    "df_submit.to_csv('submit/submit_clf.csv')"
   ]
  },
  {
   "cell_type": "code",
   "execution_count": 72,
   "metadata": {},
   "outputs": [
    {
     "data": {
      "text/plain": [
       "person\n",
       "4886f805    0.005950\n",
       "0297fc1e    0.057402\n",
       "2d681dd8    0.005950\n",
       "cccea85e    0.057402\n",
       "4c8a8b93    0.057402\n",
       "29ebb414    0.005950\n",
       "3dc1950f    0.057402\n",
       "8ea4c165    0.057402\n",
       "d8cfe234    0.034921\n",
       "d6bc64df    0.057402\n",
       "ec9c4059    0.034921\n",
       "d21b8e6b    0.005950\n",
       "2a724d87    0.005950\n",
       "686c49c9    0.195248\n",
       "a08d42ea    0.034921\n",
       "c98f5cf1    0.057402\n",
       "d614c608    0.005950\n",
       "e45acd53    0.032258\n",
       "7d876393    0.057402\n",
       "f5af843f    0.057402\n",
       "5a724794    0.057402\n",
       "00091926    0.057402\n",
       "55d1e0ee    0.034921\n",
       "f87be219    0.005950\n",
       "49c19e32    0.034921\n",
       "bb78c182    0.005950\n",
       "e2bfe05f    0.005950\n",
       "0e9d0ae2    0.005950\n",
       "cb68850c    0.005950\n",
       "f30ef764    0.005950\n",
       "              ...   \n",
       "523c7e69    0.096561\n",
       "d2e564cb    0.195248\n",
       "eb27e544    0.195248\n",
       "b32e7113    0.096561\n",
       "a65f2cf0    0.096561\n",
       "a70b9f00    0.295385\n",
       "a161fd76    0.096561\n",
       "e9a4d3a8    0.096561\n",
       "24f53ba2    0.096561\n",
       "39cf8fa0    0.096561\n",
       "9ceab28a    0.096561\n",
       "f85da107    0.096561\n",
       "154d2935    0.096561\n",
       "3adf7ca4    0.195248\n",
       "2e89874a    0.096561\n",
       "ef4e52ab    0.096561\n",
       "85e0f62a    0.195248\n",
       "2c209f87    0.096561\n",
       "4ddb8c19    0.096561\n",
       "25bd8078    0.195248\n",
       "87d306fc    0.096561\n",
       "a2b1e355    0.096561\n",
       "fb88a7ea    0.250000\n",
       "9707cd0e    0.096561\n",
       "6f7632db    0.096561\n",
       "a1c2a901    0.096561\n",
       "ed3f80d7    1.000000\n",
       "92f2d94b    0.250000\n",
       "40bf23ab    0.096561\n",
       "80aea0a0    0.096561\n",
       "Name: label, Length: 19415, dtype: float64"
      ]
     },
     "execution_count": 72,
     "metadata": {},
     "output_type": "execute_result"
    }
   ],
   "source": [
    "df_submit['label']\n"
   ]
  },
  {
   "cell_type": "code",
   "execution_count": null,
   "metadata": {},
   "outputs": [],
   "source": []
  }
 ],
 "metadata": {
  "kernelspec": {
   "display_name": "Python 2",
   "language": "python",
   "name": "python2"
  },
  "language_info": {
   "codemirror_mode": {
    "name": "ipython",
    "version": 2
   },
   "file_extension": ".py",
   "mimetype": "text/x-python",
   "name": "python",
   "nbconvert_exporter": "python",
   "pygments_lexer": "ipython2",
   "version": "2.7.14"
  }
 },
 "nbformat": 4,
 "nbformat_minor": 2
}
