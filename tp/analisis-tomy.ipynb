{
 "cells": [
  {
   "cell_type": "code",
   "execution_count": 2,
   "metadata": {},
   "outputs": [],
   "source": [
    "import pandas as pd\n",
    "import matplotlib as mlib\n",
    "from matplotlib import gridspec\n",
    "import matplotlib.pyplot as plt\n",
    "import numpy as np\n",
    "\n",
    "mylist = []\n",
    "\n",
    "for chunk in pd.read_csv('../../events.csv', low_memory=False, chunksize=20000):\n",
    "    mylist.append(chunk)\n",
    "\n",
    "df_events = pd.concat(mylist, axis= 0)\n",
    "del mylist\n",
    "\n"
   ]
  },
  {
   "cell_type": "code",
   "execution_count": 3,
   "metadata": {},
   "outputs": [
    {
     "data": {
      "text/plain": [
       "Index(['timestamp', 'event', 'person', 'url', 'sku', 'model', 'condition',\n",
       "       'storage', 'color', 'skus', 'search_term', 'staticpage',\n",
       "       'campaign_source', 'search_engine', 'channel', 'new_vs_returning',\n",
       "       'city', 'region', 'country', 'device_type', 'screen_resolution',\n",
       "       'operating_system_version', 'browser_version'],\n",
       "      dtype='object')"
      ]
     },
     "execution_count": 3,
     "metadata": {},
     "output_type": "execute_result"
    }
   ],
   "source": [
    "df_events.columns"
   ]
  },
  {
   "cell_type": "code",
   "execution_count": 4,
   "metadata": {},
   "outputs": [
    {
     "data": {
      "text/plain": [
       "viewed product       528931\n",
       "brand listing         98635\n",
       "visited site          87378\n",
       "ad campaign hit       82827\n",
       "generic listing       67534\n",
       "searched products     56073\n",
       "search engine hit     50957\n",
       "checkout              33735\n",
       "staticpage             3598\n",
       "conversion             1172\n",
       "lead                    448\n",
       "Name: event, dtype: int64"
      ]
     },
     "execution_count": 4,
     "metadata": {},
     "output_type": "execute_result"
    }
   ],
   "source": [
    "df_events['event'].value_counts()"
   ]
  },
  {
   "cell_type": "code",
   "execution_count": 5,
   "metadata": {},
   "outputs": [],
   "source": [
    "# 1) Cantidad de visitas segun pais\n",
    "\n",
    "df_1 = df_events[(df_events[\"event\"]==\"visited site\") | (df_events[\"event\"]==\"ad campaign hit\")]"
   ]
  },
  {
   "cell_type": "code",
   "execution_count": 6,
   "metadata": {},
   "outputs": [
    {
     "data": {
      "text/plain": [
       "Series([], Name: country, dtype: int64)"
      ]
     },
     "execution_count": 6,
     "metadata": {},
     "output_type": "execute_result"
    }
   ],
   "source": [
    "df_1[df_1[\"event\"]==\"ad campaign hit\"][\"country\"].value_counts()\n",
    "\n",
    "## Esto lleva a no saber en qué paises conviene poner publicidad,\n",
    "## dado que falta la información del pais para el evento \"ad campaign hit\"\n",
    "\n",
    "## Si se tuviera esa información, se podría invertir más plata en publicidades\n",
    "## para aquellos países que tienen un mayor ratio personas <-> publicidades clickeadas,\n",
    "## o también visitas al sitio <-> publicidades clickeadas"
   ]
  },
  {
   "cell_type": "code",
   "execution_count": 7,
   "metadata": {},
   "outputs": [
    {
     "data": {
      "text/plain": [
       "/                            28323\n",
       "/comprar/iphone               4132\n",
       "/comprar/iphone/6s            3393\n",
       "/comprar/iphone/6             3228\n",
       "/comprar/samsung              2782\n",
       "/comprar/iphone/iphone-5s     2689\n",
       "Name: url, dtype: int64"
      ]
     },
     "execution_count": 7,
     "metadata": {},
     "output_type": "execute_result"
    }
   ],
   "source": [
    "## 2) Publicidades más clickeadas\n",
    "\n",
    "df_events[df_events[\"event\"]==\"ad campaign hit\"][\"url\"].value_counts().head(6)"
   ]
  },
  {
   "cell_type": "code",
   "execution_count": 8,
   "metadata": {},
   "outputs": [
    {
     "data": {
      "text/html": [
       "<div>\n",
       "<style scoped>\n",
       "    .dataframe tbody tr th:only-of-type {\n",
       "        vertical-align: middle;\n",
       "    }\n",
       "\n",
       "    .dataframe tbody tr th {\n",
       "        vertical-align: top;\n",
       "    }\n",
       "\n",
       "    .dataframe thead th {\n",
       "        text-align: right;\n",
       "    }\n",
       "</style>\n",
       "<table border=\"1\" class=\"dataframe\">\n",
       "  <thead>\n",
       "    <tr style=\"text-align: right;\">\n",
       "      <th></th>\n",
       "      <th>timestamp</th>\n",
       "      <th>event</th>\n",
       "      <th>person</th>\n",
       "      <th>url</th>\n",
       "      <th>sku</th>\n",
       "      <th>model</th>\n",
       "      <th>condition</th>\n",
       "      <th>storage</th>\n",
       "      <th>color</th>\n",
       "      <th>skus</th>\n",
       "      <th>...</th>\n",
       "      <th>search_engine</th>\n",
       "      <th>channel</th>\n",
       "      <th>new_vs_returning</th>\n",
       "      <th>city</th>\n",
       "      <th>region</th>\n",
       "      <th>country</th>\n",
       "      <th>device_type</th>\n",
       "      <th>screen_resolution</th>\n",
       "      <th>operating_system_version</th>\n",
       "      <th>browser_version</th>\n",
       "    </tr>\n",
       "  </thead>\n",
       "  <tbody>\n",
       "    <tr>\n",
       "      <th>0</th>\n",
       "      <td>2018-05-31 23:38:05</td>\n",
       "      <td>ad campaign hit</td>\n",
       "      <td>0004b0a2</td>\n",
       "      <td>/comprar/iphone/iphone-5s</td>\n",
       "      <td>NaN</td>\n",
       "      <td>NaN</td>\n",
       "      <td>NaN</td>\n",
       "      <td>NaN</td>\n",
       "      <td>NaN</td>\n",
       "      <td>NaN</td>\n",
       "      <td>...</td>\n",
       "      <td>NaN</td>\n",
       "      <td>NaN</td>\n",
       "      <td>NaN</td>\n",
       "      <td>NaN</td>\n",
       "      <td>NaN</td>\n",
       "      <td>NaN</td>\n",
       "      <td>NaN</td>\n",
       "      <td>NaN</td>\n",
       "      <td>NaN</td>\n",
       "      <td>NaN</td>\n",
       "    </tr>\n",
       "    <tr>\n",
       "      <th>6</th>\n",
       "      <td>2018-05-29 13:29:27</td>\n",
       "      <td>ad campaign hit</td>\n",
       "      <td>0006a21a</td>\n",
       "      <td>/comprar/samsung/galaxy-s8</td>\n",
       "      <td>NaN</td>\n",
       "      <td>NaN</td>\n",
       "      <td>NaN</td>\n",
       "      <td>NaN</td>\n",
       "      <td>NaN</td>\n",
       "      <td>NaN</td>\n",
       "      <td>...</td>\n",
       "      <td>NaN</td>\n",
       "      <td>NaN</td>\n",
       "      <td>NaN</td>\n",
       "      <td>NaN</td>\n",
       "      <td>NaN</td>\n",
       "      <td>NaN</td>\n",
       "      <td>NaN</td>\n",
       "      <td>NaN</td>\n",
       "      <td>NaN</td>\n",
       "      <td>NaN</td>\n",
       "    </tr>\n",
       "    <tr>\n",
       "      <th>11</th>\n",
       "      <td>2018-04-09 20:12:31</td>\n",
       "      <td>ad campaign hit</td>\n",
       "      <td>000a54b2</td>\n",
       "      <td>/</td>\n",
       "      <td>NaN</td>\n",
       "      <td>NaN</td>\n",
       "      <td>NaN</td>\n",
       "      <td>NaN</td>\n",
       "      <td>NaN</td>\n",
       "      <td>NaN</td>\n",
       "      <td>...</td>\n",
       "      <td>NaN</td>\n",
       "      <td>NaN</td>\n",
       "      <td>NaN</td>\n",
       "      <td>NaN</td>\n",
       "      <td>NaN</td>\n",
       "      <td>NaN</td>\n",
       "      <td>NaN</td>\n",
       "      <td>NaN</td>\n",
       "      <td>NaN</td>\n",
       "      <td>NaN</td>\n",
       "    </tr>\n",
       "    <tr>\n",
       "      <th>15</th>\n",
       "      <td>2018-05-24 11:21:07</td>\n",
       "      <td>ad campaign hit</td>\n",
       "      <td>000a54b2</td>\n",
       "      <td>/</td>\n",
       "      <td>NaN</td>\n",
       "      <td>NaN</td>\n",
       "      <td>NaN</td>\n",
       "      <td>NaN</td>\n",
       "      <td>NaN</td>\n",
       "      <td>NaN</td>\n",
       "      <td>...</td>\n",
       "      <td>NaN</td>\n",
       "      <td>NaN</td>\n",
       "      <td>NaN</td>\n",
       "      <td>NaN</td>\n",
       "      <td>NaN</td>\n",
       "      <td>NaN</td>\n",
       "      <td>NaN</td>\n",
       "      <td>NaN</td>\n",
       "      <td>NaN</td>\n",
       "      <td>NaN</td>\n",
       "    </tr>\n",
       "    <tr>\n",
       "      <th>99</th>\n",
       "      <td>2018-05-17 00:08:56</td>\n",
       "      <td>ad campaign hit</td>\n",
       "      <td>0019c395</td>\n",
       "      <td>/comprar/samsung/galaxy-j5</td>\n",
       "      <td>NaN</td>\n",
       "      <td>NaN</td>\n",
       "      <td>NaN</td>\n",
       "      <td>NaN</td>\n",
       "      <td>NaN</td>\n",
       "      <td>NaN</td>\n",
       "      <td>...</td>\n",
       "      <td>NaN</td>\n",
       "      <td>NaN</td>\n",
       "      <td>NaN</td>\n",
       "      <td>NaN</td>\n",
       "      <td>NaN</td>\n",
       "      <td>NaN</td>\n",
       "      <td>NaN</td>\n",
       "      <td>NaN</td>\n",
       "      <td>NaN</td>\n",
       "      <td>NaN</td>\n",
       "    </tr>\n",
       "  </tbody>\n",
       "</table>\n",
       "<p>5 rows × 23 columns</p>\n",
       "</div>"
      ],
      "text/plain": [
       "              timestamp            event    person  \\\n",
       "0   2018-05-31 23:38:05  ad campaign hit  0004b0a2   \n",
       "6   2018-05-29 13:29:27  ad campaign hit  0006a21a   \n",
       "11  2018-04-09 20:12:31  ad campaign hit  000a54b2   \n",
       "15  2018-05-24 11:21:07  ad campaign hit  000a54b2   \n",
       "99  2018-05-17 00:08:56  ad campaign hit  0019c395   \n",
       "\n",
       "                           url  sku model condition storage color skus  \\\n",
       "0    /comprar/iphone/iphone-5s  NaN   NaN       NaN     NaN   NaN  NaN   \n",
       "6   /comprar/samsung/galaxy-s8  NaN   NaN       NaN     NaN   NaN  NaN   \n",
       "11                           /  NaN   NaN       NaN     NaN   NaN  NaN   \n",
       "15                           /  NaN   NaN       NaN     NaN   NaN  NaN   \n",
       "99  /comprar/samsung/galaxy-j5  NaN   NaN       NaN     NaN   NaN  NaN   \n",
       "\n",
       "         ...       search_engine channel new_vs_returning city region country  \\\n",
       "0        ...                 NaN     NaN              NaN  NaN    NaN     NaN   \n",
       "6        ...                 NaN     NaN              NaN  NaN    NaN     NaN   \n",
       "11       ...                 NaN     NaN              NaN  NaN    NaN     NaN   \n",
       "15       ...                 NaN     NaN              NaN  NaN    NaN     NaN   \n",
       "99       ...                 NaN     NaN              NaN  NaN    NaN     NaN   \n",
       "\n",
       "   device_type screen_resolution operating_system_version browser_version  \n",
       "0          NaN               NaN                      NaN             NaN  \n",
       "6          NaN               NaN                      NaN             NaN  \n",
       "11         NaN               NaN                      NaN             NaN  \n",
       "15         NaN               NaN                      NaN             NaN  \n",
       "99         NaN               NaN                      NaN             NaN  \n",
       "\n",
       "[5 rows x 23 columns]"
      ]
     },
     "execution_count": 8,
     "metadata": {},
     "output_type": "execute_result"
    }
   ],
   "source": [
    "df_events[df_events[\"event\"]==\"ad campaign hit\"].head()"
   ]
  },
  {
   "cell_type": "code",
   "execution_count": 9,
   "metadata": {},
   "outputs": [
    {
     "data": {
      "text/plain": [
       "/vender/                                      138\n",
       "/vender/lg                                     22\n",
       "/vender/motorola/moto-g5-plus                  19\n",
       "/vender/motorola/moto-z2-play                  14\n",
       "/vender/samsung/galaxy-s5                       8\n",
       "/vender/motorola/moto-z2-force                  6\n",
       "/vender/lg/lg-l80-dual                          4\n",
       "/vender/samsung/galaxy-s8-plus                  3\n",
       "/vender/motorola/moto-g5s-plus                  2\n",
       "/vender/motorola/moto-e-2a-geracao-4g-dual      2\n",
       "/vender                                         2\n",
       "/vender/motorola                                1\n",
       "Name: url, dtype: int64"
      ]
     },
     "execution_count": 9,
     "metadata": {},
     "output_type": "execute_result"
    }
   ],
   "source": [
    "## Eventos vender\n",
    "df_events[\"es_vender\"] = df_events[df_events[\"event\"]==\"ad campaign hit\"][\"url\"].str.contains(\"/vender\")\n",
    "df_vendiendo = df_events[df_events[\"es_vender\"]==True]\n",
    "\n",
    "## Personas vendiendo\n",
    "df_vendiendo[\"person\"].value_counts()\n",
    "\n",
    "## Modelos a vender\n",
    "df_vendiendo[\"url\"].value_counts()\n",
    "\n",
    "## Podemos ver que las url a las que llegaron los usuarios son de brasil, por lo que tal vez\n",
    "## personas de otros países no esten queriendo/intentando/pudiendo vender (argentina no puede por ej.)\n",
    "\n",
    "# Los modelos a vender son más viejos que los que se quieren comprar, no hay muchas ventas de modelos nuevos"
   ]
  },
  {
   "cell_type": "code",
   "execution_count": 18,
   "metadata": {},
   "outputs": [
    {
     "data": {
      "text/plain": [
       "/comprar/iphone                    4132\n",
       "/comprar/iphone/6s                 3393\n",
       "/comprar/iphone/6                  3228\n",
       "/comprar/samsung                   2782\n",
       "/comprar/iphone/iphone-5s          2689\n",
       "/comprar/samsung/galaxy-j5         2446\n",
       "/comprar/samsung/galaxy-s7-edge    1972\n",
       "/comprar/samsung/galaxy-s8         1499\n",
       "/comprar/samsung/galaxy-j7         1465\n",
       "/comprar/samsung/galaxy-s6-edge    1415\n",
       "Name: url, dtype: int64"
      ]
     },
     "execution_count": 18,
     "metadata": {},
     "output_type": "execute_result"
    }
   ],
   "source": [
    "# Eventos comprar\n",
    "df_events[\"es_comprar\"] = df_events[df_events[\"event\"]==\"ad campaign hit\"][\"url\"].str.contains(\"/comprar\")\n",
    "df_comprando = df_events[df_events[\"es_comprar\"]==True]\n",
    "\n",
    "# Personas comprando\n",
    "# df_comprando[\"person\"].value_counts()\n",
    "\n",
    "# Modelos a comprar\n",
    "df_comprando[\"url\"].value_counts().head(10)\n",
    "\n",
    "## Vemos que las marcas que insinúan a la gente a clickear las publicidades son\n",
    "## iphone, samsung y motorola (en orden)"
   ]
  },
  {
   "cell_type": "code",
   "execution_count": 19,
   "metadata": {},
   "outputs": [
    {
     "data": {
      "text/plain": [
       "/comprar/lg/lg-g4-stylus-hdtv-h540t         1\n",
       "/comprar/lg/lg-g-pro-lite-dual-d685         1\n",
       "/comprar/iphone/iphone-5/                   1\n",
       "/comprar/lg/lg-g2-mini-d618-dual            1\n",
       "/comprar/lg/lg-g2-mini-d618                 1\n",
       "/comprar/samsung/galaxy-mega-duos           1\n",
       "/comprar/samsung/galaxy-tab-e-96-wifi-3g    1\n",
       "/comprar/ipad/ipad-mini-2-wi-fi             1\n",
       "/comprar/motorola/moto-x                    1\n",
       "/comprar/ipad/3-wi-fi-4g                    1\n",
       "Name: url, dtype: int64"
      ]
     },
     "execution_count": 19,
     "metadata": {},
     "output_type": "execute_result"
    }
   ],
   "source": [
    "# Los menos interesantes\n",
    "df_comprando[\"url\"].value_counts().tail(10)"
   ]
  },
  {
   "cell_type": "code",
   "execution_count": 11,
   "metadata": {},
   "outputs": [],
   "source": [
    "# 3) Checkout y conversion - Patrones segun usuarios\n",
    "\n",
    "checkyconv_events = df_events[(df_events[\"event\"]==\"conversion\") | (df_events[\"event\"]==\"checkout\")]\n",
    "\n",
    "persons_array = checkyconv_events[\"person\"].value_counts().head(100).index.values"
   ]
  },
  {
   "cell_type": "code",
   "execution_count": 12,
   "metadata": {},
   "outputs": [],
   "source": [
    "df_personas_checkyconv = df_events[df_events[\"person\"].isin(persons_array)]"
   ]
  },
  {
   "cell_type": "code",
   "execution_count": 13,
   "metadata": {},
   "outputs": [],
   "source": [
    "# El evento \"visited site\" es el unico que recopila informacion sobre el tipo de dispositivo\n",
    "personas_smartphone = df_personas_checkyconv[df_personas_checkyconv[\"device_type\"]==\"Smartphone\"][\"person\"].value_counts().index.values\n",
    "personas_computer = df_personas_checkyconv[df_personas_checkyconv[\"device_type\"]==\"Computer\"][\"person\"].value_counts().index.values"
   ]
  },
  {
   "cell_type": "code",
   "execution_count": 14,
   "metadata": {},
   "outputs": [
    {
     "data": {
      "text/plain": [
       "167"
      ]
     },
     "execution_count": 14,
     "metadata": {},
     "output_type": "execute_result"
    }
   ],
   "source": [
    "df_personas_smartphone = df_personas_checkyconv[df_personas_checkyconv[\"person\"].isin(personas_smartphone)]\n",
    "df_personas_smartphone[(df_personas_smartphone[\"event\"]==\"conversion\")][\"person\"].value_counts().values.sum()"
   ]
  },
  {
   "cell_type": "code",
   "execution_count": 15,
   "metadata": {},
   "outputs": [
    {
     "data": {
      "text/plain": [
       "178"
      ]
     },
     "execution_count": 15,
     "metadata": {},
     "output_type": "execute_result"
    }
   ],
   "source": [
    "df_personas_computer = df_personas_checkyconv[df_personas_checkyconv[\"person\"].isin(personas_computer)]\n",
    "df_personas_computer[(df_personas_computer[\"event\"]==\"conversion\")][\"person\"].value_counts().values.sum()"
   ]
  },
  {
   "cell_type": "code",
   "execution_count": 25,
   "metadata": {},
   "outputs": [
    {
     "data": {
      "text/html": [
       "<div>\n",
       "<style scoped>\n",
       "    .dataframe tbody tr th:only-of-type {\n",
       "        vertical-align: middle;\n",
       "    }\n",
       "\n",
       "    .dataframe tbody tr th {\n",
       "        vertical-align: top;\n",
       "    }\n",
       "\n",
       "    .dataframe thead th {\n",
       "        text-align: right;\n",
       "    }\n",
       "</style>\n",
       "<table border=\"1\" class=\"dataframe\">\n",
       "  <thead>\n",
       "    <tr style=\"text-align: right;\">\n",
       "      <th></th>\n",
       "      <th>person</th>\n",
       "    </tr>\n",
       "    <tr>\n",
       "      <th>event</th>\n",
       "      <th></th>\n",
       "    </tr>\n",
       "  </thead>\n",
       "  <tbody>\n",
       "    <tr>\n",
       "      <th>ad campaign hit</th>\n",
       "      <td>1563</td>\n",
       "    </tr>\n",
       "    <tr>\n",
       "      <th>brand listing</th>\n",
       "      <td>4558</td>\n",
       "    </tr>\n",
       "    <tr>\n",
       "      <th>checkout</th>\n",
       "      <td>1010</td>\n",
       "    </tr>\n",
       "    <tr>\n",
       "      <th>conversion</th>\n",
       "      <td>178</td>\n",
       "    </tr>\n",
       "    <tr>\n",
       "      <th>generic listing</th>\n",
       "      <td>2455</td>\n",
       "    </tr>\n",
       "    <tr>\n",
       "      <th>lead</th>\n",
       "      <td>34</td>\n",
       "    </tr>\n",
       "    <tr>\n",
       "      <th>search engine hit</th>\n",
       "      <td>785</td>\n",
       "    </tr>\n",
       "    <tr>\n",
       "      <th>searched products</th>\n",
       "      <td>1409</td>\n",
       "    </tr>\n",
       "    <tr>\n",
       "      <th>staticpage</th>\n",
       "      <td>259</td>\n",
       "    </tr>\n",
       "    <tr>\n",
       "      <th>viewed product</th>\n",
       "      <td>14567</td>\n",
       "    </tr>\n",
       "    <tr>\n",
       "      <th>visited site</th>\n",
       "      <td>2691</td>\n",
       "    </tr>\n",
       "  </tbody>\n",
       "</table>\n",
       "</div>"
      ],
      "text/plain": [
       "                   person\n",
       "event                    \n",
       "ad campaign hit      1563\n",
       "brand listing        4558\n",
       "checkout             1010\n",
       "conversion            178\n",
       "generic listing      2455\n",
       "lead                   34\n",
       "search engine hit     785\n",
       "searched products    1409\n",
       "staticpage            259\n",
       "viewed product      14567\n",
       "visited site         2691"
      ]
     },
     "execution_count": 25,
     "metadata": {},
     "output_type": "execute_result"
    }
   ],
   "source": [
    "df_personas_computer.groupby(\"event\").agg({\"person\": \"count\"})"
   ]
  },
  {
   "cell_type": "code",
   "execution_count": 28,
   "metadata": {},
   "outputs": [
    {
     "data": {
      "text/html": [
       "<div>\n",
       "<style scoped>\n",
       "    .dataframe tbody tr th:only-of-type {\n",
       "        vertical-align: middle;\n",
       "    }\n",
       "\n",
       "    .dataframe tbody tr th {\n",
       "        vertical-align: top;\n",
       "    }\n",
       "\n",
       "    .dataframe thead th {\n",
       "        text-align: right;\n",
       "    }\n",
       "</style>\n",
       "<table border=\"1\" class=\"dataframe\">\n",
       "  <thead>\n",
       "    <tr style=\"text-align: right;\">\n",
       "      <th></th>\n",
       "      <th>person</th>\n",
       "    </tr>\n",
       "    <tr>\n",
       "      <th>event</th>\n",
       "      <th></th>\n",
       "    </tr>\n",
       "  </thead>\n",
       "  <tbody>\n",
       "    <tr>\n",
       "      <th>ad campaign hit</th>\n",
       "      <td>1552</td>\n",
       "    </tr>\n",
       "    <tr>\n",
       "      <th>brand listing</th>\n",
       "      <td>2718</td>\n",
       "    </tr>\n",
       "    <tr>\n",
       "      <th>checkout</th>\n",
       "      <td>1015</td>\n",
       "    </tr>\n",
       "    <tr>\n",
       "      <th>conversion</th>\n",
       "      <td>167</td>\n",
       "    </tr>\n",
       "    <tr>\n",
       "      <th>generic listing</th>\n",
       "      <td>2291</td>\n",
       "    </tr>\n",
       "    <tr>\n",
       "      <th>lead</th>\n",
       "      <td>50</td>\n",
       "    </tr>\n",
       "    <tr>\n",
       "      <th>search engine hit</th>\n",
       "      <td>904</td>\n",
       "    </tr>\n",
       "    <tr>\n",
       "      <th>searched products</th>\n",
       "      <td>1439</td>\n",
       "    </tr>\n",
       "    <tr>\n",
       "      <th>staticpage</th>\n",
       "      <td>255</td>\n",
       "    </tr>\n",
       "    <tr>\n",
       "      <th>viewed product</th>\n",
       "      <td>11410</td>\n",
       "    </tr>\n",
       "    <tr>\n",
       "      <th>visited site</th>\n",
       "      <td>2421</td>\n",
       "    </tr>\n",
       "  </tbody>\n",
       "</table>\n",
       "</div>"
      ],
      "text/plain": [
       "                   person\n",
       "event                    \n",
       "ad campaign hit      1552\n",
       "brand listing        2718\n",
       "checkout             1015\n",
       "conversion            167\n",
       "generic listing      2291\n",
       "lead                   50\n",
       "search engine hit     904\n",
       "searched products    1439\n",
       "staticpage            255\n",
       "viewed product      11410\n",
       "visited site         2421"
      ]
     },
     "execution_count": 28,
     "metadata": {},
     "output_type": "execute_result"
    }
   ],
   "source": [
    "df_personas_smartphone.groupby(\"event\").agg({\"person\": \"count\"})"
   ]
  },
  {
   "cell_type": "code",
   "execution_count": 16,
   "metadata": {},
   "outputs": [
    {
     "data": {
      "text/plain": [
       "Series([], Name: device_type, dtype: int64)"
      ]
     },
     "execution_count": 16,
     "metadata": {},
     "output_type": "execute_result"
    }
   ],
   "source": [
    "# 4) Click en publicidad - desde qué dispositivo\n",
    "# Esta informacion tambien falta, no se puede saber desde que dispositivo se accedio a la publicidad\n",
    "# Esto hace que se pierda informacion sobre donde poner publicidades, si conviene invertir mas en un diseño para mobile\n",
    "# o si la gente no suele clickear publicidades desde sus celulares o tablets.\n",
    "df_events[df_events[\"event\"]==\"ad campaign hit\"][\"device_type\"].value_counts()"
   ]
  },
  {
   "cell_type": "code",
   "execution_count": 21,
   "metadata": {},
   "outputs": [
    {
     "data": {
      "text/plain": [
       "Brazil            74529\n",
       "Unknown            2120\n",
       "United States       191\n",
       "Argentina            67\n",
       "Canada               28\n",
       "Netherlands          11\n",
       "United Kingdom       11\n",
       "Japan                11\n",
       "Name: country, dtype: int64"
      ]
     },
     "execution_count": 21,
     "metadata": {},
     "output_type": "execute_result"
    }
   ],
   "source": [
    "# 5) Pais del que provienen los que clickean ads\n",
    "\n",
    "persons_ads = df_events[df_events[\"event\"]==\"ad campaign hit\"][\"person\"].value_counts().index.values\n",
    "\n",
    "\n",
    "countries_ads = df_events[df_events[\"person\"].isin(persons_ads)][\"country\"].value_counts().head(8).index.values\n",
    "values_countries_ads = df_events[df_events[\"person\"].isin(persons_ads)][\"country\"].value_counts().head(8).values\n",
    "df_events[df_events[\"person\"].isin(persons_ads)][\"country\"].value_counts().head(8)"
   ]
  },
  {
   "cell_type": "code",
   "execution_count": 22,
   "metadata": {},
   "outputs": [
    {
     "data": {
      "text/plain": [
       "Brazil            84308\n",
       "Unknown            2313\n",
       "United States       465\n",
       "Argentina            94\n",
       "Canada               35\n",
       "Netherlands          13\n",
       "United Kingdom       12\n",
       "Japan                11\n",
       "Name: country, dtype: int64"
      ]
     },
     "execution_count": 22,
     "metadata": {},
     "output_type": "execute_result"
    }
   ],
   "source": [
    "values_countries_total = df_events[df_events[\"country\"].isin(countries_ads)][\"country\"].value_counts().values\n",
    "df_events[df_events[\"country\"].isin(countries_ads)][\"country\"].value_counts()"
   ]
  },
  {
   "cell_type": "code",
   "execution_count": 23,
   "metadata": {},
   "outputs": [],
   "source": [
    "ratio_total_ads = values_countries_total/values_countries_ads\n"
   ]
  },
  {
   "cell_type": "code",
   "execution_count": 24,
   "metadata": {},
   "outputs": [
    {
     "data": {
      "image/png": "[encoded data removed]",
      "text/plain": [
       "<Figure size 576x432 with 2 Axes>"
      ]
     },
     "metadata": {},
     "output_type": "display_data"
    }
   ],
   "source": [
    "porcentaje_eventos = values_countries_total\n",
    "\n",
    "cmap = mlib.cm.viridis\n",
    "norm = mlib.colors.Normalize(vmin=0, vmax=84308)\n",
    "\n",
    "fig = plt.figure(figsize=(8, 6)) \n",
    "gs = gridspec.GridSpec(1, 2, width_ratios=[3, 1]) \n",
    "ax0 = plt.subplot(gs[0])\n",
    "# Dibuja los circulos segun la data de eventos, variando el radio segun el porcentaje \n",
    "\n",
    "plt.scatter(100/ratio_total_ads, countries_ads, s=(porcentaje_eventos)**(0.4)*10, c=cmap(norm(values_countries_total)))\n",
    "\n",
    "# Agrega texto con el porcentaje representativo a cada evento\n",
    "# plt.text(eventos[0]-25000, eventos.keys()[0], porcentaje_eventos[0].round(decimals=2).astype(str)+'%', color='white', weight=700)\n",
    "# i=1\n",
    "# for index, value in eventos[1:].iteritems():\n",
    "#     plt.text(value+12000, index, porcentaje_eventos[i].round(2).astype(str)+'%')\n",
    "#     i+=1\n",
    "\n",
    "# Rotula y dibuja el gráfico\n",
    "plt.xlabel('Porcentaje visitas:publicidades')\n",
    "plt.ylabel('Pais')\n",
    "plt.title('Visitas a partir de publicidades')\n",
    "plt.axis([35, 105, -1, 8])\n",
    "\n",
    "\n",
    "ax1 = plt.subplot(gs[1])\n",
    "# Colorbar\n",
    "ax = plt.gca()\n",
    "cb1 = mlib.colorbar.ColorbarBase(ax1, cmap=cmap,\n",
    "                                norm=norm,\n",
    "                                orientation='vertical')\n",
    "cb1.set_label('Cantidad total de visitas')\n",
    "\n",
    "plt.show()"
   ]
  },
  {
   "cell_type": "code",
   "execution_count": null,
   "metadata": {},
   "outputs": [],
   "source": []
  }
 ],
 "metadata": {
  "kernelspec": {
   "display_name": "Python 3",
   "language": "python",
   "name": "python3"
  },
  "language_info": {
   "codemirror_mode": {
    "name": "ipython",
    "version": 3
   },
   "file_extension": ".py",
   "mimetype": "text/x-python",
   "name": "python",
   "nbconvert_exporter": "python",
   "pygments_lexer": "ipython3",
   "version": "3.7.0"
  }
 },
 "nbformat": 4,
 "nbformat_minor": 2
}
