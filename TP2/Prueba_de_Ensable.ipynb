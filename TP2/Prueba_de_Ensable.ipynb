{
 "cells": [
  {
   "cell_type": "code",
   "execution_count": 29,
   "metadata": {},
   "outputs": [],
   "source": [
    "import pandas as pd\n",
    "import numpy as np\n",
    "from sklearn.ensemble import GradientBoostingClassifier, RandomForestClassifier\n",
    "import xgboost as xgb\n",
    "from xgboost import XGBClassifier, plot_importance\n",
    "from sklearn.model_selection import cross_val_score\n",
    "from sklearn.model_selection import train_test_split\n",
    "from sklearn.metrics import classification_report, confusion_matrix, roc_auc_score"
   ]
  },
  {
   "cell_type": "code",
   "execution_count": 30,
   "metadata": {},
   "outputs": [
    {
     "name": "stdout",
     "output_type": "stream",
     "text": [
      "<class 'pandas.core.frame.DataFrame'>\n",
      "Index: 38829 entries, 4886f805 to 80aea0a0\n",
      "Data columns (total 8 columns):\n",
      "cant_conversions               38829 non-null float64\n",
      "cant_checkouts                 38829 non-null float64\n",
      "cant_viewed_product            38829 non-null float64\n",
      "cant_searched_product          38829 non-null float64\n",
      "cant_brand_listing             38829 non-null float64\n",
      "total_sesiones                 38829 non-null int64\n",
      "promedio_eventos_por_sesion    38829 non-null float64\n",
      "proprosion                     38829 non-null float64\n",
      "dtypes: float64(7), int64(1)\n",
      "memory usage: 2.7+ MB\n"
     ]
    }
   ],
   "source": [
    "df1 = pd.read_csv('data/features_basicas.csv', low_memory=False, index_col='person')\n",
    "df1[\"proprosion\"] = np.where(df1[\"cant_viewed_product\"]>0, (df1[\"cant_checkouts\"]/df1[\"cant_viewed_product\"]),0)\n",
    "df1.info()"
   ]
  },
  {
   "cell_type": "code",
   "execution_count": 31,
   "metadata": {},
   "outputs": [
    {
     "name": "stdout",
     "output_type": "stream",
     "text": [
      "<class 'pandas.core.frame.DataFrame'>\n",
      "Index: 38829 entries, 4886f805 to 80aea0a0\n",
      "Data columns (total 34 columns):\n",
      "cant_conversions               38829 non-null float64\n",
      "cant_checkouts                 38829 non-null float64\n",
      "cant_viewed_product            38829 non-null float64\n",
      "cant_searched_product          38829 non-null float64\n",
      "cant_brand_listing             38829 non-null float64\n",
      "total_sesiones                 38829 non-null int64\n",
      "promedio_eventos_por_sesion    38829 non-null float64\n",
      "proprosion                     38829 non-null float64\n",
      "mas_prom                       38829 non-null float64\n",
      "vio_mas_apple                  38829 non-null float64\n",
      "vio_mas_samsung                38829 non-null float64\n",
      "vio_mas_motorola               38829 non-null float64\n",
      "compro_apple                   38829 non-null float64\n",
      "check_apple                    38829 non-null float64\n",
      "check_samsung                  38829 non-null float64\n",
      "timestamp                      38829 non-null int64\n",
      "min_timestamp                  38829 non-null int64\n",
      "sum_timestamp                  38829 non-null float64\n",
      "prom_timestamp                 38829 non-null int64\n",
      "city_Sao Paulo                 38829 non-null float64\n",
      "city_São Paulo                 38829 non-null float64\n",
      "mean_sku                       38829 non-null float64\n",
      "suma_sku                       38829 non-null float64\n",
      "event_ad campaign hit          38829 non-null int64\n",
      "event_brand listing            38829 non-null int64\n",
      "event_checkout                 38829 non-null int64\n",
      "event_conversion               38829 non-null int64\n",
      "event_generic listing          38829 non-null int64\n",
      "event_lead                     38829 non-null int64\n",
      "event_search engine hit        38829 non-null int64\n",
      "event_searched products        38829 non-null int64\n",
      "event_staticpage               38829 non-null int64\n",
      "event_viewed product           38829 non-null int64\n",
      "event_visited site             38829 non-null int64\n",
      "dtypes: float64(19), int64(15)\n",
      "memory usage: 11.6+ MB\n"
     ]
    }
   ],
   "source": [
    "df2 = pd.read_csv('data/vistas_promedio.csv', low_memory=False, index_col='person')\n",
    "#df3 = pd.read_csv('data/featureUsuarioRealizaAlMenos10EventosEn20Minutos.csv', low_memory=False, index_col='person')\n",
    "df4 = pd.read_csv('data/features_mas_vistos.csv', low_memory=False, index_col='person')\n",
    "df5 = pd.read_csv('data/features_compras.csv', low_memory=False, index_col='person')\n",
    "df6 = pd.read_csv('data/features_checkout.csv', low_memory=False, index_col='person')\n",
    "df7 = pd.read_csv('data/features_time.csv', low_memory=False, index_col='person')\n",
    "#df8 = pd.read_csv('data/paises_features.csv', low_memory=False, index_col='person')\n",
    "df9 = pd.read_csv('data/city_features.csv', low_memory=False, index_col='person')\n",
    "df10 = pd.read_csv('data/sku.csv', low_memory=False, index_col='person')\n",
    "df11 = pd.read_csv('data/static.csv', low_memory=False, index_col='person')\n",
    "df12 = pd.read_csv('data/events_fe.csv', low_memory=False, index_col='person')\n",
    "\n",
    "df_unidos = df1.join(df2).fillna(0)\n",
    "#df_unidos = df_unidos.join(df3).fillna(0)\n",
    "df_unidos = df_unidos.join(df4).fillna(0)\n",
    "df_unidos = df_unidos.join(df5).fillna(0)\n",
    "df_unidos = df_unidos.join(df6).fillna(0)\n",
    "df_unidos = df_unidos.join(df7).fillna(0)\n",
    "#df_unidos = df_unidos.join(df8).fillna(0)\n",
    "df_unidos = df_unidos.join(df9).fillna(0)\n",
    "df_unidos = df_unidos.join(df10).fillna(0)\n",
    "#df_unidos = df_unidos.join(df11).fillna(0)\n",
    "df_unidos = df_unidos.join(df12).fillna(0)\n",
    "\n",
    "df_unidos.info()"
   ]
  },
  {
   "cell_type": "code",
   "execution_count": 32,
   "metadata": {},
   "outputs": [
    {
     "name": "stdout",
     "output_type": "stream",
     "text": [
      "<class 'pandas.core.frame.DataFrame'>\n",
      "Index: 19414 entries, ad93850f to d8d6b0da\n",
      "Data columns (total 35 columns):\n",
      "cant_conversions               19414 non-null float64\n",
      "cant_checkouts                 19414 non-null float64\n",
      "cant_viewed_product            19414 non-null float64\n",
      "cant_searched_product          19414 non-null float64\n",
      "cant_brand_listing             19414 non-null float64\n",
      "total_sesiones                 19414 non-null int64\n",
      "promedio_eventos_por_sesion    19414 non-null float64\n",
      "proprosion                     19414 non-null float64\n",
      "mas_prom                       19414 non-null float64\n",
      "vio_mas_apple                  19414 non-null float64\n",
      "vio_mas_samsung                19414 non-null float64\n",
      "vio_mas_motorola               19414 non-null float64\n",
      "compro_apple                   19414 non-null float64\n",
      "check_apple                    19414 non-null float64\n",
      "check_samsung                  19414 non-null float64\n",
      "timestamp                      19414 non-null int64\n",
      "min_timestamp                  19414 non-null int64\n",
      "sum_timestamp                  19414 non-null float64\n",
      "prom_timestamp                 19414 non-null int64\n",
      "city_Sao Paulo                 19414 non-null float64\n",
      "city_São Paulo                 19414 non-null float64\n",
      "mean_sku                       19414 non-null float64\n",
      "suma_sku                       19414 non-null float64\n",
      "event_ad campaign hit          19414 non-null int64\n",
      "event_brand listing            19414 non-null int64\n",
      "event_checkout                 19414 non-null int64\n",
      "event_conversion               19414 non-null int64\n",
      "event_generic listing          19414 non-null int64\n",
      "event_lead                     19414 non-null int64\n",
      "event_search engine hit        19414 non-null int64\n",
      "event_searched products        19414 non-null int64\n",
      "event_staticpage               19414 non-null int64\n",
      "event_viewed product           19414 non-null int64\n",
      "event_visited site             19414 non-null int64\n",
      "label                          19414 non-null int64\n",
      "dtypes: float64(19), int64(16)\n",
      "memory usage: 5.3+ MB\n"
     ]
    }
   ],
   "source": [
    "labels = pd.read_csv('data/labels_training_set.csv', low_memory=False, index_col='person')\n",
    "\n",
    "df_test = df_unidos.join(labels, how= \"inner\")\n",
    "df_test.info()"
   ]
  },
  {
   "cell_type": "code",
   "execution_count": 33,
   "metadata": {},
   "outputs": [],
   "source": [
    "features = df_test.columns.tolist()\n",
    "features.remove('label')"
   ]
  },
  {
   "cell_type": "code",
   "execution_count": 34,
   "metadata": {},
   "outputs": [],
   "source": [
    "rf = RandomForestClassifier(n_estimators=10000, n_jobs=-1, min_samples_split=150,\\\n",
    "                            class_weight='balanced')\n",
    "\n",
    "#  Partimos los datos que tenemos para entrenar en dos partes, una para entrenar el modelo (80% de los datos)\n",
    "#  y la otra parte se usará para probar el modelo (el 20% restante)\n",
    "X_train, X_test, Y_train, Y_test = train_test_split(df_test[features],\\\n",
    "                                                    df_test['label'], test_size=0.20)"
   ]
  },
  {
   "cell_type": "code",
   "execution_count": 36,
   "metadata": {},
   "outputs": [
    {
     "data": {
      "text/plain": [
       "0.81457635848570698"
      ]
     },
     "execution_count": 36,
     "metadata": {},
     "output_type": "execute_result"
    }
   ],
   "source": [
    "print(\"Train a Random Forest model\")\n",
    "rf.fit(X_train,Y_train)\n",
    "rf.score(X_test,Y_test)"
   ]
  },
  {
   "cell_type": "code",
   "execution_count": 41,
   "metadata": {},
   "outputs": [
    {
     "data": {
      "text/plain": [
       "'X, y = df_test.iloc[:,:-1],df_test.iloc[:,-1]\\ndata_dmatrix = xgb.DMatrix(data=X,label=y)\\nX_train, X_test, y_train, y_test =     train_test_split(X, y, test_size=0.2, random_state=123)'"
      ]
     },
     "execution_count": 41,
     "metadata": {},
     "output_type": "execute_result"
    }
   ],
   "source": [
    "\"\"\"X, y = df_test.iloc[:,:-1],df_test.iloc[:,-1]\n",
    "data_dmatrix = xgb.DMatrix(data=X,label=y)\n",
    "X_train, X_test, y_train, y_test = \\\n",
    "    train_test_split(X, y, test_size=0.2, random_state=123)\"\"\""
   ]
  },
  {
   "cell_type": "code",
   "execution_count": 42,
   "metadata": {},
   "outputs": [
    {
     "name": "stdout",
     "output_type": "stream",
     "text": [
      "Train a XGBoost model\n"
     ]
    },
    {
     "data": {
      "text/plain": [
       "XGBClassifier(base_score=0.5, booster='gbtree', colsample_bylevel=1,\n",
       "       colsample_bytree=1, gamma=0, learning_rate=0.01, max_delta_step=0,\n",
       "       max_depth=1, min_child_weight=1, missing=None, n_estimators=200,\n",
       "       n_jobs=-1, nthread=None, objective='binary:logistic',\n",
       "       random_state=0, reg_alpha=0, reg_lambda=1, scale_pos_weight=2,\n",
       "       seed=None, silent=True, subsample=1)"
      ]
     },
     "execution_count": 42,
     "metadata": {},
     "output_type": "execute_result"
    }
   ],
   "source": [
    "print(\"Train a XGBoost model\")\n",
    "xg_reg = XGBClassifier(max_depth=1,learning_rate=0.01,n_estimators=200,scale_pos_weight = 2,silent=True,n_jobs=-1)\n",
    "xg_reg.fit(X_train,y_train)"
   ]
  },
  {
   "cell_type": "code",
   "execution_count": 43,
   "metadata": {},
   "outputs": [
    {
     "ename": "TypeError",
     "evalue": "can not initialize DMatrix from DMatrix",
     "output_type": "error",
     "traceback": [
      "\u001b[0;31m\u001b[0m",
      "\u001b[0;31mTypeError\u001b[0mTraceback (most recent call last)",
      "\u001b[0;32m<ipython-input-43-75ece707613f>\u001b[0m in \u001b[0;36m<module>\u001b[0;34m()\u001b[0m\n\u001b[1;32m      1\u001b[0m best_probs = (rf.predict_proba(X_test) +\n\u001b[0;32m----> 2\u001b[0;31m               xg_reg.predict(xgb.DMatrix(X_test)))/2\n\u001b[0m\u001b[1;32m      3\u001b[0m \u001b[0;34m\u001b[0m\u001b[0m\n\u001b[1;32m      4\u001b[0m \u001b[0mbest_proba\u001b[0m\u001b[0;34m\u001b[0m\u001b[0m\n",
      "\u001b[0;32m/anaconda2/lib/python2.7/site-packages/xgboost/sklearn.pyc\u001b[0m in \u001b[0;36mpredict\u001b[0;34m(self, data, output_margin, ntree_limit, validate_features)\u001b[0m\n\u001b[1;32m    751\u001b[0m         \u001b[0mprediction\u001b[0m \u001b[0;34m:\u001b[0m \u001b[0mnumpy\u001b[0m \u001b[0marray\u001b[0m\u001b[0;34m\u001b[0m\u001b[0m\n\u001b[1;32m    752\u001b[0m         \"\"\"\n\u001b[0;32m--> 753\u001b[0;31m         \u001b[0mtest_dmatrix\u001b[0m \u001b[0;34m=\u001b[0m \u001b[0mDMatrix\u001b[0m\u001b[0;34m(\u001b[0m\u001b[0mdata\u001b[0m\u001b[0;34m,\u001b[0m \u001b[0mmissing\u001b[0m\u001b[0;34m=\u001b[0m\u001b[0mself\u001b[0m\u001b[0;34m.\u001b[0m\u001b[0mmissing\u001b[0m\u001b[0;34m,\u001b[0m \u001b[0mnthread\u001b[0m\u001b[0;34m=\u001b[0m\u001b[0mself\u001b[0m\u001b[0;34m.\u001b[0m\u001b[0mn_jobs\u001b[0m\u001b[0;34m)\u001b[0m\u001b[0;34m\u001b[0m\u001b[0m\n\u001b[0m\u001b[1;32m    754\u001b[0m         \u001b[0;32mif\u001b[0m \u001b[0mntree_limit\u001b[0m \u001b[0;32mis\u001b[0m \u001b[0mNone\u001b[0m\u001b[0;34m:\u001b[0m\u001b[0;34m\u001b[0m\u001b[0m\n\u001b[1;32m    755\u001b[0m             \u001b[0mntree_limit\u001b[0m \u001b[0;34m=\u001b[0m \u001b[0mgetattr\u001b[0m\u001b[0;34m(\u001b[0m\u001b[0mself\u001b[0m\u001b[0;34m,\u001b[0m \u001b[0;34m\"best_ntree_limit\"\u001b[0m\u001b[0;34m,\u001b[0m \u001b[0;36m0\u001b[0m\u001b[0;34m)\u001b[0m\u001b[0;34m\u001b[0m\u001b[0m\n",
      "\u001b[0;32m/anaconda2/lib/python2.7/site-packages/xgboost/core.pyc\u001b[0m in \u001b[0;36m__init__\u001b[0;34m(self, data, label, missing, weight, silent, feature_names, feature_types, nthread)\u001b[0m\n\u001b[1;32m    389\u001b[0m             \u001b[0;32mexcept\u001b[0m\u001b[0;34m:\u001b[0m\u001b[0;34m\u001b[0m\u001b[0m\n\u001b[1;32m    390\u001b[0m                 raise TypeError('can not initialize DMatrix from'\n\u001b[0;32m--> 391\u001b[0;31m                                 ' {}'.format(type(data).__name__))\n\u001b[0m\u001b[1;32m    392\u001b[0m \u001b[0;34m\u001b[0m\u001b[0m\n\u001b[1;32m    393\u001b[0m         \u001b[0;32mif\u001b[0m \u001b[0mlabel\u001b[0m \u001b[0;32mis\u001b[0m \u001b[0;32mnot\u001b[0m \u001b[0mNone\u001b[0m\u001b[0;34m:\u001b[0m\u001b[0;34m\u001b[0m\u001b[0m\n",
      "\u001b[0;31mTypeError\u001b[0m: can not initialize DMatrix from DMatrix"
     ]
    }
   ],
   "source": [
    "best_probs = (rf.predict_proba(X_test) + xg_reg.predict(xgb.DMatrix(X_test)))/2\n",
    "\n",
    "best_proba"
   ]
  },
  {
   "cell_type": "code",
   "execution_count": null,
   "metadata": {},
   "outputs": [],
   "source": []
  },
  {
   "cell_type": "code",
   "execution_count": null,
   "metadata": {},
   "outputs": [],
   "source": []
  }
 ],
 "metadata": {
  "kernelspec": {
   "display_name": "Python 2",
   "language": "python",
   "name": "python2"
  },
  "language_info": {
   "codemirror_mode": {
    "name": "ipython",
    "version": 2
   },
   "file_extension": ".py",
   "mimetype": "text/x-python",
   "name": "python",
   "nbconvert_exporter": "python",
   "pygments_lexer": "ipython2",
   "version": "2.7.14"
  }
 },
 "nbformat": 4,
 "nbformat_minor": 2
}
