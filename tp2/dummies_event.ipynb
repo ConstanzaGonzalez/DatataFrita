{
 "cells": [
  {
   "cell_type": "code",
   "execution_count": 1,
   "metadata": {},
   "outputs": [],
   "source": [
    "import pandas as pd\n",
    "import numpy as np"
   ]
  },
  {
   "cell_type": "code",
   "execution_count": 2,
   "metadata": {},
   "outputs": [
    {
     "name": "stdout",
     "output_type": "stream",
     "text": [
      "<class 'pandas.core.frame.DataFrame'>\n",
      "RangeIndex: 2341681 entries, 0 to 2341680\n",
      "Data columns (total 23 columns):\n",
      "timestamp                   datetime64[ns]\n",
      "event                       object\n",
      "person                      object\n",
      "url                         object\n",
      "sku                         float64\n",
      "model                       object\n",
      "condition                   object\n",
      "storage                     object\n",
      "color                       object\n",
      "skus                        object\n",
      "search_term                 object\n",
      "staticpage                  object\n",
      "campaign_source             object\n",
      "search_engine               object\n",
      "channel                     object\n",
      "new_vs_returning            object\n",
      "city                        object\n",
      "region                      object\n",
      "country                     object\n",
      "device_type                 object\n",
      "screen_resolution           object\n",
      "operating_system_version    object\n",
      "browser_version             object\n",
      "dtypes: datetime64[ns](1), float64(1), object(21)\n",
      "memory usage: 410.9+ MB\n"
     ]
    }
   ],
   "source": [
    "df = pd.read_csv('data/events_up_to_01062018.csv', low_memory=False)\n",
    "df['timestamp'] = pd.to_datetime(df['timestamp'])\n",
    "df.info()"
   ]
  },
  {
   "cell_type": "markdown",
   "metadata": {},
   "source": [
    "per = df[\"sku\"].value_counts().to_frame()\n",
    "per.columns = [\"cant\"]\n",
    "per = per.reset_index()\n",
    "lista = per[\"index\"].tolist()[:15]\n",
    "per_s = df.groupby(\"person\")[\"sku\"].value_counts().to_frame()\n",
    "per_s.columns = [\"cant\"]\n",
    "per_s = per_s.reset_index()\n",
    "#per_s = per_s.drop_duplicates(\"person\",keep= \"first\").drop(\"cant\",1)\n",
    "per_s = pd.get_dummies(per_s,columns = [\"sku\"])\n",
    "#per_d = per[\"url\"].astype(\"\")\n",
    "lista_s = [\"person\"]\n",
    "for s in lista:\n",
    "    lista_s.append(\"sku_\"+str(s))\n",
    "per_s = per_s[lista_s].set_index(\"person\").reset_index()\n",
    "per_s = per_s.drop_duplicates(\"person\",keep=\"first\").set_index(\"person\")\n",
    "per_s"
   ]
  },
  {
   "cell_type": "code",
   "execution_count": 3,
   "metadata": {},
   "outputs": [],
   "source": [
    "#per_d.set_index(\"person\")"
   ]
  },
  {
   "cell_type": "markdown",
   "metadata": {},
   "source": [
    "per_d.to_csv(\"data/device.csv\",sep=\",\")"
   ]
  },
  {
   "cell_type": "markdown",
   "metadata": {},
   "source": [
    "per = df.groupby(\"person\")[\"campaign_source\"].value_counts().to_frame()\n",
    "per.columns = [\"cant\"]\n",
    "per = per.reset_index().drop(\"cant\",1)\n",
    "#per = per.drop_duplicates(\"person\",keep= \"first\").drop(\"cant\",1)\n",
    "per_f = pd.get_dummies(per,columns = [\"campaign_source\"])\n",
    "per_f = per_d.drop_duplicates(\"person\",keep = \"first\").set_index(\"person\")\n",
    "per_f"
   ]
  },
  {
   "cell_type": "markdown",
   "metadata": {},
   "source": [
    "per_s.to_csv(\"data/device_2.csv\",sep=\",\")"
   ]
  },
  {
   "cell_type": "markdown",
   "metadata": {},
   "source": [
    "sta = df[[\"person\",\"staticpage\"]]\n",
    "sta = pd.get_dummies(sta,columns=[\"staticpage\"])\n",
    "sta = sta.drop_duplicates(\"person\").set_index(\"person\")\n",
    "\n",
    "sta"
   ]
  },
  {
   "cell_type": "markdown",
   "metadata": {},
   "source": [
    "sta.to_csv(\"data/static.csv\",sep=\",\")"
   ]
  },
  {
   "cell_type": "markdown",
   "metadata": {},
   "source": [
    "df[\"st_low\"] = df[\"search_term\"].apply(lambda x: str(x).lower().split(\" \")[0])\n",
    "df[\"st_low\"].value_counts()"
   ]
  },
  {
   "cell_type": "markdown",
   "metadata": {},
   "source": [
    "df[\"busco_iphone\"] = df[\"st_low\"].apply(lambda x: 1 if x == \"iPhone\" else 0)\n",
    "df[\"busco_moto\"] = df[\"st_low\"].apply(lambda x: 1 if x == \"moto\" else 0)\n",
    "df[\"busco_samsung\"] = df[\"st_low\"].apply(lambda x: 1 if x == \"samsung\" else 0)\n",
    "df[\"busco_j7\"] = df[\"st_low\"].apply(lambda x: 1 if x == \"j7\" else 0)\n",
    "df[\"busco_galaxy\"] = df[\"st_low\"].apply(lambda x: 1 if x == \"galaxy\" else 0)\n",
    "gfs = df[[\"person\",\"busco_iphone\",\"busco_samsung\",\"busco_j7\",\"busco_galaxy\"]]\n",
    "gfs = gfs.drop_duplicates(\"person\").set_index(\"person\")"
   ]
  },
  {
   "cell_type": "markdown",
   "metadata": {},
   "source": [
    "gfs.to_csv(\"data/searterm.csv\",sep=\",\")"
   ]
  },
  {
   "cell_type": "markdown",
   "metadata": {},
   "source": [
    "gfs"
   ]
  },
  {
   "cell_type": "code",
   "execution_count": 64,
   "metadata": {},
   "outputs": [
    {
     "data": {
      "text/plain": [
       "viewed product       16139\n",
       "checkout             10258\n",
       "generic listing       2812\n",
       "visited site          2590\n",
       "brand listing         2065\n",
       "ad campaign hit       1995\n",
       "searched products     1368\n",
       "search engine hit      641\n",
       "conversion             619\n",
       "staticpage             336\n",
       "lead                     6\n",
       "Name: event, dtype: int64"
      ]
     },
     "execution_count": 64,
     "metadata": {},
     "output_type": "execute_result"
    }
   ],
   "source": [
    "event = df.groupby(\"person\")[\"timestamp\"].value_counts().to_frame().drop(\"timestamp\",1).reset_index().drop_duplicates(\"person\",keep= \"last\")\n",
    "event\n",
    "mezcla = df.sort_values(\"timestamp\").drop_duplicates(\"person\",keep=\"last\")\n",
    "mezcla.sort_values(\"person\")\n",
    "mezcla = mezcla[[\"person\",\"event\"]]\n",
    "mezcla[\"event\"].value_counts()"
   ]
  },
  {
   "cell_type": "code",
   "execution_count": 58,
   "metadata": {},
   "outputs": [],
   "source": [
    "mezcla = pd.get_dummies(mezcla, columns=[\"event\"])"
   ]
  },
  {
   "cell_type": "code",
   "execution_count": 60,
   "metadata": {},
   "outputs": [],
   "source": [
    "mezcla = mezcla.set_index(\"person\")"
   ]
  },
  {
   "cell_type": "code",
   "execution_count": 61,
   "metadata": {},
   "outputs": [],
   "source": [
    "mezcla.to_csv(\"data/events_fe.csv\",sep=\",\")"
   ]
  },
  {
   "cell_type": "code",
   "execution_count": 63,
   "metadata": {},
   "outputs": [
    {
     "data": {
      "text/plain": [
       "person\n",
       "a0084db9    0\n",
       "9ea14cff    0\n",
       "7d324b6f    0\n",
       "47462840    0\n",
       "02ac4fca    0\n",
       "a853d058    0\n",
       "c91e61f6    0\n",
       "7a1dc333    0\n",
       "cdfe74eb    0\n",
       "0f168a63    0\n",
       "68db2f45    0\n",
       "e7c11245    0\n",
       "ae6abfd7    0\n",
       "8898728a    1\n",
       "93d26b10    0\n",
       "dc8113b0    0\n",
       "203297ab    0\n",
       "b7f65e14    0\n",
       "86e5e80b    0\n",
       "ac94f714    0\n",
       "dd982281    0\n",
       "bb8b4bac    0\n",
       "b9f3646c    1\n",
       "d0c3c615    0\n",
       "8e1ca368    0\n",
       "7257b382    0\n",
       "86afedf0    0\n",
       "4043203e    0\n",
       "a1e9bfdb    0\n",
       "9c935bfd    0\n",
       "           ..\n",
       "958bee92    0\n",
       "97c3e3d9    0\n",
       "065b0804    1\n",
       "c711c92f    1\n",
       "7d086b78    0\n",
       "643784b6    0\n",
       "452c38a0    0\n",
       "e591352d    0\n",
       "c9fad834    0\n",
       "2edb1da0    0\n",
       "6a270596    0\n",
       "389c194b    0\n",
       "2c95458f    1\n",
       "b4591712    0\n",
       "0f73a67c    0\n",
       "6a393ad6    0\n",
       "6c5e3983    0\n",
       "e52eb616    0\n",
       "5429fbb6    0\n",
       "88260b16    0\n",
       "aac2e8ba    0\n",
       "ee1b249c    0\n",
       "8c9f7c78    0\n",
       "e6b0d0b2    0\n",
       "85a8749d    0\n",
       "8c27c9a2    0\n",
       "d2561d30    0\n",
       "1dae1e78    0\n",
       "2f0d27b2    0\n",
       "d54e0bdb    0\n",
       "Name: event_checkout, Length: 38829, dtype: uint8"
      ]
     },
     "execution_count": 63,
     "metadata": {},
     "output_type": "execute_result"
    }
   ],
   "source": [
    "mezcla"
   ]
  },
  {
   "cell_type": "code",
   "execution_count": null,
   "metadata": {},
   "outputs": [],
   "source": []
  }
 ],
 "metadata": {
  "kernelspec": {
   "display_name": "Python 2",
   "language": "python",
   "name": "python2"
  },
  "language_info": {
   "codemirror_mode": {
    "name": "ipython",
    "version": 2
   },
   "file_extension": ".py",
   "mimetype": "text/x-python",
   "name": "python",
   "nbconvert_exporter": "python",
   "pygments_lexer": "ipython2",
   "version": "2.7.14"
  }
 },
 "nbformat": 4,
 "nbformat_minor": 2
}
